{
 "cells": [
  {
   "cell_type": "code",
   "execution_count": 1,
   "id": "d797575d",
   "metadata": {},
   "outputs": [],
   "source": [
    "import os\n",
    "import torch\n",
    "import torch.nn.functional as F\n",
    "import matplotlib.pyplot as plt\n",
    "import string\n",
    "\n",
    "NAMES_FILE_PATH = os.path.join(os.getcwd(), 'src', 'names.txt')"
   ]
  },
  {
   "cell_type": "code",
   "execution_count": 2,
   "id": "63ccaa58",
   "metadata": {},
   "outputs": [],
   "source": [
    "with open(NAMES_FILE_PATH) as f:\n",
    "    words = f.read().splitlines()"
   ]
  },
  {
   "cell_type": "code",
   "execution_count": 3,
   "id": "ffaddaad",
   "metadata": {},
   "outputs": [
    {
     "name": "stdout",
     "output_type": "stream",
     "text": [
      "32033\n",
      "15\n",
      "['emma', 'olivia', 'ava', 'isabella', 'sophia', 'charlotte', 'mia', 'amelia']\n"
     ]
    }
   ],
   "source": [
    "print(len(words))\n",
    "print(max(len(w) for w in words))\n",
    "print(words[:8])"
   ]
  },
  {
   "cell_type": "code",
   "execution_count": 4,
   "id": "93a66a88",
   "metadata": {},
   "outputs": [],
   "source": [
    "stoi = {s:i for i, s in enumerate(string.ascii_lowercase, 1)}\n",
    "stoi['.'] = 0\n",
    "itos = {i:s for s,i in stoi.items()}\n",
    "vocab_size = len(itos)"
   ]
  },
  {
   "cell_type": "code",
   "execution_count": 5,
   "id": "e04beb79",
   "metadata": {},
   "outputs": [
    {
     "name": "stdout",
     "output_type": "stream",
     "text": [
      "torch.Size([182625, 3]) torch.Size([182625])\n",
      "torch.Size([22655, 3]) torch.Size([22655])\n",
      "torch.Size([22866, 3]) torch.Size([22866])\n"
     ]
    }
   ],
   "source": [
    "block_size =  3\n",
    "\n",
    "def build_dataset(words):\n",
    "    X, Y  = [], []\n",
    "    for w in words:\n",
    "        context = [0]  * block_size\n",
    "        for ch in w + '.':\n",
    "            ix = stoi[ch]\n",
    "            X.append(context)\n",
    "            Y.append(ix)\n",
    "            context = context[1:]  + [ix]\n",
    "    X = torch.tensor(X)\n",
    "    Y = torch.tensor(Y)\n",
    "    print(X.shape, Y.shape)\n",
    "    return X, Y\n",
    "\n",
    "import random\n",
    "random.seed(42)\n",
    "random.shuffle(words)\n",
    "n1 =  int(0.8*len(words))\n",
    "n2 = int(0.9*len(words))\n",
    "\n",
    "Xtr, Ytr = build_dataset(words[:n1])\n",
    "Xdev, Ydev = build_dataset(words[n1:n2])\n",
    "Xte, Yte = build_dataset(words[n2:])"
   ]
  },
  {
   "cell_type": "code",
   "execution_count": 6,
   "id": "c35d9825",
   "metadata": {},
   "outputs": [],
   "source": [
    "def cmp(s, dt, t):\n",
    "    ex = torch.all(dt == t.grad).item()\n",
    "    app = torch.allclose(dt, t.grad)\n",
    "    maxdiff = (dt - t.grad).abs().max().item()\n",
    "    print(f'{s:15s} | exact: {str(ex):5s} | approximate: {str(app):5s} | maxdiff:  {maxdiff}')"
   ]
  },
  {
   "cell_type": "code",
   "execution_count": 7,
   "id": "02d15906",
   "metadata": {},
   "outputs": [
    {
     "name": "stdout",
     "output_type": "stream",
     "text": [
      "4137\n"
     ]
    }
   ],
   "source": [
    "n_embd = 10\n",
    "n_hidden = 64\n",
    "\n",
    "g = torch.Generator().manual_seed(2147483647)\n",
    "C =  torch.randn((vocab_size, n_embd), generator=g)\n",
    "W1 = torch.randn((block_size  * n_embd, n_hidden), generator=g)  * (5/3)/((block_size * n_embd)**0.5)\n",
    "b1 = torch.randn(n_hidden, generator=g)  * 0.1\n",
    "W2  = torch.randn((n_hidden, vocab_size), generator=g) * 0.1\n",
    "b2 =  torch.randn(vocab_size, generator=g) * 0.1\n",
    "\n",
    "bngain = torch.randn((1, n_hidden))*0.1 + 1.0\n",
    "bnbias = torch.randn((1, n_hidden))*0.1\n",
    "\n",
    "parameters = [C, W1, b1, W2, b2, bngain, bnbias]\n",
    "print(sum(p.nelement() for p in parameters))\n",
    "for p in parameters:\n",
    "    p.requires_grad = True"
   ]
  },
  {
   "cell_type": "code",
   "execution_count": 8,
   "id": "4e188d6a",
   "metadata": {},
   "outputs": [],
   "source": [
    "batch_size = 32\n",
    "n = batch_size\n",
    "ix = torch.randint(0, Xtr.shape[0], (batch_size,), generator=g)\n",
    "Xb,  Yb = Xtr[ix], Ytr[ix]"
   ]
  },
  {
   "cell_type": "code",
   "execution_count": 9,
   "id": "3b47b715",
   "metadata": {},
   "outputs": [
    {
     "data": {
      "text/plain": [
       "tensor(3.3616, grad_fn=<NegBackward0>)"
      ]
     },
     "execution_count": 9,
     "metadata": {},
     "output_type": "execute_result"
    }
   ],
   "source": [
    "emb = C[Xb] # embed the characters into vectors\n",
    "embcat = emb.view(emb.shape[0], -1) # concatenate the vectors\n",
    "# Linear layer 1\n",
    "hprebn = embcat @ W1 + b1 # hidden layer pre-activation\n",
    "# BatchNorm Layer\n",
    "bnmeani = 1/n*hprebn.sum(0, keepdim=True)\n",
    "bndiff = hprebn - bnmeani\n",
    "bndiff2 = bndiff**2\n",
    "bnvar = 1/(n-1)*(bndiff2).sum(0, keepdim=True)\n",
    "bnvar_inv = (bnvar + 1e-5)**-0.5\n",
    "bnraw = bndiff * bnvar_inv\n",
    "hpreact = bngain * bnraw + bnbias\n",
    "# Non-linearity\n",
    "h = torch.tanh(hpreact)\n",
    "# Linear layer 2\n",
    "logits = h @ W2 + b2  \n",
    "# Cross entropy loss\n",
    "logit_maxes = logits.max(1, keepdim=True).values\n",
    "norm_logits = logits - logit_maxes\n",
    "counts = norm_logits.exp()\n",
    "counts_sum = counts.sum(1, keepdim=True)\n",
    "counts_sum_inv = counts_sum**-1\n",
    "probs = counts * counts_sum_inv\n",
    "logprobs = probs.log()\n",
    "loss = -logprobs[range(n), Yb].mean()\n",
    "\n",
    "# Pytorch backward pass\n",
    "for p in parameters:\n",
    "    p.grad  =  None\n",
    "for t in [logprobs, probs, counts, counts_sum, counts_sum_inv,\n",
    "          norm_logits, logit_maxes, logits, h, hpreact, bnraw,\n",
    "          bnvar_inv, bnvar,   bndiff2, bndiff, hprebn, bnmeani,\n",
    "          embcat, emb\n",
    "          ]:\n",
    "    t.retain_grad()\n",
    "loss.backward()\n",
    "loss"
   ]
  },
  {
   "cell_type": "code",
   "execution_count": 11,
   "id": "0fa0f6fd",
   "metadata": {},
   "outputs": [
    {
     "name": "stdout",
     "output_type": "stream",
     "text": [
      "logprobs        | exact: True  | approximate: True  | maxdiff:  0.0\n",
      "probs           | exact: True  | approximate: True  | maxdiff:  0.0\n",
      "counts_sum_inv  | exact: True  | approximate: True  | maxdiff:  0.0\n",
      "counts_sum      | exact: True  | approximate: True  | maxdiff:  0.0\n",
      "counts          | exact: True  | approximate: True  | maxdiff:  0.0\n",
      "norm_logits     | exact: True  | approximate: True  | maxdiff:  0.0\n",
      "logit_maxes     | exact: True  | approximate: True  | maxdiff:  0.0\n",
      "logits          | exact: True  | approximate: True  | maxdiff:  0.0\n",
      "h               | exact: True  | approximate: True  | maxdiff:  0.0\n",
      "dW2             | exact: True  | approximate: True  | maxdiff:  0.0\n",
      "db2             | exact: True  | approximate: True  | maxdiff:  0.0\n",
      "hpreact         | exact: True  | approximate: True  | maxdiff:  0.0\n",
      "bnraw           | exact: True  | approximate: True  | maxdiff:  0.0\n",
      "bngain          | exact: True  | approximate: True  | maxdiff:  0.0\n",
      "bnbias          | exact: True  | approximate: True  | maxdiff:  0.0\n",
      "bndiff          | exact: True  | approximate: True  | maxdiff:  0.0\n",
      "bnvar_inv       | exact: True  | approximate: True  | maxdiff:  0.0\n",
      "bnvar           | exact: True  | approximate: True  | maxdiff:  0.0\n",
      "bndiff2         | exact: True  | approximate: True  | maxdiff:  0.0\n",
      "dhprebn         | exact: True  | approximate: True  | maxdiff:  0.0\n",
      "dbnmeani        | exact: True  | approximate: True  | maxdiff:  0.0\n",
      "dhpreact        | exact: True  | approximate: True  | maxdiff:  0.0\n",
      "dembcat         | exact: True  | approximate: True  | maxdiff:  0.0\n",
      "dW1             | exact: True  | approximate: True  | maxdiff:  0.0\n",
      "db1             | exact: True  | approximate: True  | maxdiff:  0.0\n",
      "demb            | exact: True  | approximate: True  | maxdiff:  0.0\n",
      "dC              | exact: True  | approximate: True  | maxdiff:  0.0\n"
     ]
    }
   ],
   "source": [
    "# Exercise 1: backprop  through the whole thing manually,\n",
    "# backpropagation through exatly all of the variables\n",
    "# as tehy are devined in the forward pass about, one by one\n",
    "\n",
    "dlogprobs = torch.zeros_like(logprobs)\n",
    "dlogprobs[range(n), Yb] = -1/n\n",
    "dprobs = (1 / probs) * dlogprobs\n",
    "dcounts_sum_inv  = (counts * dprobs).sum(1, keepdim=True)\n",
    "dcounts = counts_sum_inv * probs.grad\n",
    "dcounts_sum = (-1.0*counts_sum**-2) * dcounts_sum_inv\n",
    "dcounts += torch.ones_like(counts) * dcounts_sum \n",
    "dnorm_logits = counts * dcounts\n",
    "dlogit_maxes = -dnorm_logits.sum(1, keepdim=True)\n",
    "dlogits = dnorm_logits.clone()\n",
    "dlogits += F.one_hot(logits.max(1).indices, num_classes=logits.shape[-1]) * dlogit_maxes\n",
    "dh = dlogits @  W2.T\n",
    "dW2 = h.T @ dlogits\n",
    "db2 = dlogits.sum(0)\n",
    "dhpreact = (1 - h**2) * dh\n",
    "dbnraw = (bngain * dhpreact)\n",
    "dbngain = (bnraw * dhpreact).sum(0, keepdim=True)\n",
    "dbnbias = dhpreact.sum(0)\n",
    "dbndiff = dbnraw * bnvar_inv \n",
    "dbnvar_inv = (dbnraw * bndiff).sum(0, keepdim = True)\n",
    "dbnvar = -0.5 * (bnvar + 1e-5)**-1.5 * dbnvar_inv\n",
    "dbndiff2 = (1.0/(n-1))*torch.ones_like(bndiff2)*dbnvar\n",
    "dbndiff += 2*bndiff * dbndiff2\n",
    "dhprebn = dbndiff.clone()\n",
    "dbnmeani = -dbndiff.sum(0, keepdim=True)\n",
    "dhprebn += 1.0/n*dbnmeani * torch.ones_like(hprebn)\n",
    "dembcat = dhprebn @ W1.T \n",
    "dW1 = embcat.T @ dhprebn\n",
    "db1 = dhprebn.sum(0)\n",
    "demb = dembcat.view(emb.shape)\n",
    "dC = torch.zeros_like(C)\n",
    "for k in range(Xb.shape[0]):\n",
    "    for j in range(Xb.shape[1]):\n",
    "        ix = Xb[k, j]\n",
    "        dC[ix] += demb[k, j]\n",
    "\n",
    "cmp('logprobs', dlogprobs, logprobs)\n",
    "cmp('probs', dprobs, probs)\n",
    "cmp('counts_sum_inv', dcounts_sum_inv, counts_sum_inv)\n",
    "cmp('counts_sum', dcounts_sum, counts_sum)\n",
    "cmp('counts', dcounts, counts)\n",
    "cmp('norm_logits', dnorm_logits, norm_logits)\n",
    "cmp('logit_maxes', dlogit_maxes, logit_maxes)\n",
    "cmp('logits',  dlogits, logits)\n",
    "cmp('h', dh, h)\n",
    "cmp('dW2', dW2, W2)\n",
    "cmp('db2', db2, b2)\n",
    "cmp('hpreact', dhpreact, hpreact)\n",
    "cmp('bnraw', dbnraw, bnraw)\n",
    "cmp('bngain', dbngain, bngain)\n",
    "cmp('bnbias', dbnbias, bnbias)\n",
    "cmp('bndiff', dbndiff, bndiff)\n",
    "cmp('bnvar_inv', dbnvar_inv, bnvar_inv)\n",
    "cmp('bnvar', dbnvar, bnvar)\n",
    "cmp('bndiff2', dbndiff2, bndiff2)\n",
    "cmp('dhprebn', dhprebn, hprebn)\n",
    "cmp('dbnmeani', dbnmeani, bnmeani)\n",
    "cmp('dhpreact', dhpreact, hpreact)\n",
    "cmp('dembcat', dembcat, embcat)\n",
    "cmp('dW1', dW1, W1)\n",
    "cmp('db1', db1, b1)\n",
    "cmp('demb', demb, emb)\n",
    "cmp('dC', dC, C)"
   ]
  },
  {
   "cell_type": "code",
   "execution_count": 13,
   "id": "01c36690",
   "metadata": {},
   "outputs": [
    {
     "name": "stdout",
     "output_type": "stream",
     "text": [
      "3.361618995666504 diff: 0.0\n"
     ]
    }
   ],
   "source": [
    "# Exercise 2: backprop  through cross_entropy but all  in  one go \n",
    "#  to  ocmplete this  challenge look  anthe  mathematical   expression  of the loss,\n",
    "#  take the derivative, simplify the expression  and just write it out\n",
    "\n",
    "# forward  \n",
    "# before:\n",
    "# logit_maxes = logits.max(1, keepdim=True).values\n",
    "# norm_logits = logits - logit_maxes\n",
    "# counts = norm_logits.exp()\n",
    "# counts_sum = counts.sum(1, keepdim=True)\n",
    "# counts_sum_inv = counts_sum**-1\n",
    "# probs = counts * counts_sum_inv\n",
    "# logprobs = probs.log()\n",
    "# loss = -logprobs[range(n), Yb].mean()\n",
    "\n",
    "# after\n",
    "loss_fast =  F.cross_entropy(logits, Yb)\n",
    "print(loss_fast.item(), 'diff:', (loss_fast - loss).item())"
   ]
  },
  {
   "cell_type": "code",
   "execution_count": 15,
   "id": "8ddd7c65",
   "metadata": {},
   "outputs": [
    {
     "name": "stdout",
     "output_type": "stream",
     "text": [
      "logits          | exact: False | approximate: True  | maxdiff:  6.752088665962219e-09\n"
     ]
    }
   ],
   "source": [
    "dlogits = F.softmax(logits, 1)\n",
    "dlogits[range(n), Yb] -= 1\n",
    "dlogits /=  n\n",
    "\n",
    "cmp('logits', dlogits, logits)"
   ]
  },
  {
   "cell_type": "code",
   "execution_count": 18,
   "id": "db910a77",
   "metadata": {},
   "outputs": [
    {
     "data": {
      "text/plain": [
       "tensor([0.0688, 0.0947, 0.0203, 0.0497, 0.0194, 0.0829, 0.0279, 0.0346, 0.0166,\n",
       "        0.0323, 0.0359, 0.0393, 0.0358, 0.0275, 0.0346, 0.0137, 0.0092, 0.0186,\n",
       "        0.0161, 0.0534, 0.0515, 0.0197, 0.0227, 0.0712, 0.0561, 0.0249, 0.0227],\n",
       "       grad_fn=<SelectBackward0>)"
      ]
     },
     "execution_count": 18,
     "metadata": {},
     "output_type": "execute_result"
    }
   ],
   "source": [
    "F.softmax(logits, 1)[0]"
   ]
  },
  {
   "cell_type": "code",
   "execution_count": 20,
   "id": "1ee9146a",
   "metadata": {},
   "outputs": [
    {
     "data": {
      "text/plain": [
       "tensor(4.6566e-10, grad_fn=<SumBackward0>)"
      ]
     },
     "execution_count": 20,
     "metadata": {},
     "output_type": "execute_result"
    }
   ],
   "source": [
    "dlogits[0].sum()"
   ]
  },
  {
   "cell_type": "code",
   "execution_count": 19,
   "id": "b9d007ca",
   "metadata": {},
   "outputs": [
    {
     "data": {
      "text/plain": [
       "tensor([ 0.0688,  0.0947,  0.0203,  0.0497,  0.0194,  0.0829,  0.0279,  0.0346,\n",
       "        -0.9834,  0.0323,  0.0359,  0.0393,  0.0358,  0.0275,  0.0346,  0.0137,\n",
       "         0.0092,  0.0186,  0.0161,  0.0534,  0.0515,  0.0197,  0.0227,  0.0712,\n",
       "         0.0561,  0.0249,  0.0227], grad_fn=<MulBackward0>)"
      ]
     },
     "execution_count": 19,
     "metadata": {},
     "output_type": "execute_result"
    }
   ],
   "source": [
    "dlogits[0] * n"
   ]
  },
  {
   "cell_type": "code",
   "execution_count": 17,
   "id": "5e8fe355",
   "metadata": {},
   "outputs": [
    {
     "data": {
      "text/plain": [
       "<matplotlib.image.AxesImage at 0x17ad2293770>"
      ]
     },
     "execution_count": 17,
     "metadata": {},
     "output_type": "execute_result"
    },
    {
     "data": {
      "image/png": "[encoded data removed]",
      "text/plain": [
       "<Figure size 800x800 with 1 Axes>"
      ]
     },
     "metadata": {},
     "output_type": "display_data"
    }
   ],
   "source": [
    "plt.figure(figsize=(8,8))\n",
    "plt.imshow(dlogits.detach(), cmap='gray')"
   ]
  },
  {
   "cell_type": "code",
   "execution_count": 25,
   "id": "7023b618",
   "metadata": {},
   "outputs": [
    {
     "name": "stdout",
     "output_type": "stream",
     "text": [
      "max diff: tensor(3.1471e-05, grad_fn=<MaxBackward1>)\n"
     ]
    }
   ],
   "source": [
    "#  Exercise 3: backprop through  batchnorm but all  in  one go\n",
    "# to complete this challenge look at the mathematical  expression  of the output of batchnorm\n",
    "# take  the derivative w.r.t  its inpt, simplify  the expression, and  just  write it out\n",
    "\n",
    "# forward  pass\n",
    "\n",
    "#  before\n",
    "# bnmeani = 1/n*hprebn.sum(0, keepdim=True)\n",
    "# bndiff = hprebn - bnmeani\n",
    "# bndiff2 = bndiff**2\n",
    "# bnvar = 1/(n-1)*(bndiff2).sum(0, keepdim=True)\n",
    "# bnvar_inv = (bnvar + 1e-5)**-0.5\n",
    "# bnraw = bndiff * bnvar_inv\n",
    "# hpreact = bngain * bnraw + bnbias\n",
    "\n",
    "#  now\n",
    "hpreact_fast = bngain  * (hprebn - hprebn.mean(0, keepdim=True))  /  torch.sqrt(hprebn.var(0, keepdim=True, unbiased=True)) + bnbias\n",
    "print(f'max diff:', (hpreact_fast - hpreact).abs().max())"
   ]
  },
  {
   "cell_type": "code",
   "execution_count": 28,
   "id": "f3ed0fb8",
   "metadata": {},
   "outputs": [
    {
     "name": "stdout",
     "output_type": "stream",
     "text": [
      "dhprebn         | exact: False | approximate: False | maxdiff:  0.004714179318398237\n"
     ]
    }
   ],
   "source": [
    "dhprebn =  bngain*bnvar_inv/n *(n*dhpreact - dhpreact.sum(0) - n/(n-1)*bnraw*(dhpreact*bnraw).sum(0))\n",
    "\n",
    "cmp('dhprebn', dhprebn, hpreact)"
   ]
  },
  {
   "cell_type": "code",
   "execution_count": null,
   "id": "f4d8ca1c",
   "metadata": {},
   "outputs": [],
   "source": []
  }
 ],
 "metadata": {
  "kernelspec": {
   "display_name": "Python 3",
   "language": "python",
   "name": "python3"
  },
  "language_info": {
   "codemirror_mode": {
    "name": "ipython",
    "version": 3
   },
   "file_extension": ".py",
   "mimetype": "text/x-python",
   "name": "python",
   "nbconvert_exporter": "python",
   "pygments_lexer": "ipython3",
   "version": "3.13.3"
  }
 },
 "nbformat": 4,
 "nbformat_minor": 5
}
