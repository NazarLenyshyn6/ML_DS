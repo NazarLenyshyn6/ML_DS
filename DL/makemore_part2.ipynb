{
 "cells": [
  {
   "cell_type": "code",
   "execution_count": 1,
   "id": "a1f6ecfd",
   "metadata": {},
   "outputs": [],
   "source": [
    "import os\n",
    "import string\n",
    "\n",
    "import torch\n",
    "import torch.nn.functional as F\n",
    "\n",
    "NAMES_FILE_PATH = os.path.join(os.getcwd(), 'src', 'names.txt')"
   ]
  },
  {
   "cell_type": "code",
   "execution_count": 2,
   "id": "aebf17c0",
   "metadata": {},
   "outputs": [
    {
     "data": {
      "text/plain": [
       "['emma', 'olivia', 'ava', 'isabella', 'sophia', 'charlotte', 'mia', 'amelia']"
      ]
     },
     "execution_count": 2,
     "metadata": {},
     "output_type": "execute_result"
    }
   ],
   "source": [
    "with open(NAMES_FILE_PATH) as f:\n",
    "    words = f.read().splitlines()\n",
    "words[:8]"
   ]
  },
  {
   "cell_type": "code",
   "execution_count": 3,
   "id": "b3c23369",
   "metadata": {},
   "outputs": [],
   "source": [
    "stoi = {s:i for i, s in enumerate(string.ascii_lowercase[:26], 1)}\n",
    "stoi['.'] = 0\n",
    "itos = {i:s for s, i  in stoi.items()}"
   ]
  },
  {
   "cell_type": "code",
   "execution_count": 4,
   "id": "e62c280b",
   "metadata": {},
   "outputs": [
    {
     "name": "stderr",
     "output_type": "stream",
     "text": [
      "C:\\Users\\User\\AppData\\Local\\Temp\\ipykernel_24092\\984821858.py:42: UserWarning: Implicit dimension choice for softmax has been deprecated. Change the call to include dim=X as an argument.\n",
      "  return F.softmax(self._forward(X))\n"
     ]
    },
    {
     "name": "stdout",
     "output_type": "stream",
     "text": [
      "Iteration: 0 | Loss: 19.193639755249023 | Generation: ['qwmmakuwdr', 'qwmmwxgtja', 'qwmmakuwdr', 'qwmmakuwho', 'xeeuzhkrqd']\n",
      "Iteration: 10000 | Loss: 2.2658419609069824 | Generation: ['hamarys', 'thyre', 'majaah', 'maxeriey', 'keegqice']\n",
      "Iteration: 20000 | Loss: 2.2818973064422607 | Generation: ['tenn', 'jorna', 'juanibuh', 'gieliye', 'neel']\n",
      "Iteration: 30000 | Loss: 2.1630799770355225 | Generation: ['karjielo', 'nauro', 'shayar', 'mokshygino', 'elia']\n",
      "Iteration: 40000 | Loss: 2.1838176250457764 | Generation: ['ayra', 'audin', 'suriydaan', 'louh', 'ka']\n",
      "Iteration: 50000 | Loss: 2.1498680114746094 | Generation: ['aiale', 'hunniri', 'delondh', 'graana', 'paerezinia']\n",
      "Iteration: 60000 | Loss: 2.1417527198791504 | Generation: ['dulisa', 'ginda', 'hayvan', 'azare', 'ahaly']\n",
      "Iteration: 70000 | Loss: 2.095111131668091 | Generation: ['rumalan', 'dory', 'mikdrah', 'draul', 'abbathaidy']\n",
      "Iteration: 80000 | Loss: 2.19919490814209 | Generation: ['serlaoyd', 'fiido', 'edaminia', 'ashiden', 'mulin']\n",
      "Iteration: 90000 | Loss: 2.1570749282836914 | Generation: ['marl', 'machcleish', 'dahigoser', 'amiah', 'arse']\n",
      "Iteration: 100000 | Loss: 2.101539134979248 | Generation: ['adosellon', 'kyia', 'kinger', 'diel', 'helda']\n",
      "Iteration: 110000 | Loss: 2.04587984085083 | Generation: ['olicel', 'toletti', 'theo', 'sunhe', 'alliyah']\n",
      "Iteration: 120000 | Loss: 2.0725626945495605 | Generation: ['kasmashane', 'kiyah', 'emery', 'learl', 'divemt']\n",
      "Iteration: 130000 | Loss: 2.1078741550445557 | Generation: ['mashlan', 'aloedan', 'rhettan', 'rockleva', 'loia']\n",
      "Iteration: 140000 | Loss: 2.0886261463165283 | Generation: ['daysin', 'zaliya', 'nake', 'bear', 'kyrynee']\n",
      "Iteration: 150000 | Loss: 2.102444648742676 | Generation: ['aglii', 'isaa', 'audsssoffi', 'avian', 'matez']\n",
      "Iteration: 160000 | Loss: 2.1315348148345947 | Generation: ['naky', 'waitani', 'beastin', 'jaida', 'elea']\n",
      "Iteration: 170000 | Loss: 2.061958074569702 | Generation: ['jaysei', 'kabbithher', 'bily', 'noello', 'jayla']\n",
      "Iteration: 180000 | Loss: 2.0808587074279785 | Generation: ['andre', 'hakanziyah', 'eminti', 'lauramilii', 'farie']\n",
      "Iteration: 190000 | Loss: 2.0285115242004395 | Generation: ['swaadar', 'amir', 'reanis', 'jaiah', 'sulline']\n"
     ]
    }
   ],
   "source": [
    "class NGramLanguageModel:\n",
    "    stoi = stoi\n",
    "    itos = itos\n",
    "    def __init__(self, context = 3, embedding_dim = 2, learning_rate = 0.1, n_iters = 100000, batch_size = 32):\n",
    "        self.context = context\n",
    "        self.embedding_dim = embedding_dim\n",
    "        self.learning_rate = learning_rate\n",
    "        self.n_iters = n_iters\n",
    "        self.batch_size = batch_size\n",
    "        self.embeddings = torch.randn((27, self.embedding_dim), requires_grad=True) \n",
    "        self.w1 = torch.randn((self.context * self.embedding_dim, 100), requires_grad=True)\n",
    "        self.b1 = torch.randn(100, requires_grad=True)\n",
    "        self.w2 = torch.randn((100,  27),  requires_grad=True)\n",
    "        self.b2 = torch.randn(27, requires_grad=True)\n",
    "\n",
    "    def __repr__(self):\n",
    "        return f'NGramLanguageModel()'\n",
    "    \n",
    "    def _generate_dataset(self, words):\n",
    "        X, Y = [], []\n",
    "        for w in words:\n",
    "            context =  [0] * self.context\n",
    "            for ch in  w + '.':\n",
    "                chi = self.stoi[ch]\n",
    "                X.append(context)\n",
    "                Y.append(chi)\n",
    "                context = context[1:] + [chi]\n",
    "        return torch.tensor(X), torch.tensor(Y)\n",
    "    \n",
    "    def _generate_batch(self, X, Y):\n",
    "        samples_idx = torch.randint(0, X.shape[0], (self.batch_size,))\n",
    "        return X[samples_idx], Y[samples_idx]\n",
    "        \n",
    "    def _forward(self, X):\n",
    "        X = torch.tensor(X) if not isinstance(X, torch.Tensor) else X\n",
    "        X = X.view(1, -1) if X.dim() == 1 else X\n",
    "        h1 = torch.tanh(self.embeddings[X].view(X.shape[0], -1) @ self.w1 + self.b1)\n",
    "        logits = h1 @ self.w2 + self.b2\n",
    "        return logits\n",
    "    \n",
    "    def _predict(self, X):\n",
    "        return F.softmax(self._forward(X))\n",
    "    \n",
    "    def _zero_grad(self):\n",
    "        for p in self.parameters(): \n",
    "            p.grad = None\n",
    "    \n",
    "    def _step(self):\n",
    "        for p in self.parameters(): \n",
    "            p.data -= self.learning_rate * p.grad\n",
    "\n",
    "    def parameters(self):\n",
    "        return [self.embeddings, self.w1, self.b1, self.w2, self.b2]\n",
    "    \n",
    "    def fit(self, words, verbose = True):\n",
    "        X, Y = self._generate_dataset(words)\n",
    "        for iteration in range(self.n_iters):\n",
    "            X_batch, Y_batch = self._generate_batch(X, Y)\n",
    "            probs = self._forward(X_batch)\n",
    "            loss = F.cross_entropy(probs, Y_batch)\n",
    "            if verbose and iteration % 10000 == 0: print(f'Iteration: {iteration} | Loss: {loss} | Generation: {self.generate()}')\n",
    "            self._zero_grad()\n",
    "            loss.backward()\n",
    "            self._step()\n",
    "            \n",
    "    def generate(self, k = 5, maxlen = 10):\n",
    "        generated_words = []\n",
    "        for _ in range(k):\n",
    "            context, generated_word, cur_len = [0] * self.context, [], 0\n",
    "            while True and cur_len <= maxlen:\n",
    "                next_char_prob_dist = self._predict(context)\n",
    "                next_char_idx = torch.multinomial(next_char_prob_dist, 1, replacement=True).item()\n",
    "                generated_word.append(self.itos[next_char_idx])\n",
    "                if next_char_idx == 0:\n",
    "                    break\n",
    "                context = context[1:] + [next_char_idx]\n",
    "                cur_len += 1\n",
    "            if generated_word: generated_word.pop()\n",
    "            generated_words.append(''.join(generated_word))\n",
    "        return generated_words\n",
    "    \n",
    "model = NGramLanguageModel(context=4, embedding_dim=100, batch_size=1000, n_iters=200000)\n",
    "model.fit(words)"
   ]
  },
  {
   "cell_type": "code",
   "execution_count": 5,
   "id": "c9df0bcd",
   "metadata": {},
   "outputs": [
    {
     "name": "stderr",
     "output_type": "stream",
     "text": [
      "C:\\Users\\User\\AppData\\Local\\Temp\\ipykernel_24092\\984821858.py:42: UserWarning: Implicit dimension choice for softmax has been deprecated. Change the call to include dim=X as an argument.\n",
      "  return F.softmax(self._forward(X))\n"
     ]
    },
    {
     "data": {
      "text/plain": [
       "['diasia',\n",
       " 'auzlik',\n",
       " 'innten',\n",
       " 'hazesny',\n",
       " 'harlin',\n",
       " 'lebn',\n",
       " 'tice',\n",
       " 'ario',\n",
       " 'syeki',\n",
       " 'kolbe',\n",
       " 'jaseee',\n",
       " 'leid',\n",
       " 'ryellisha',\n",
       " 'joren',\n",
       " 'javiyah',\n",
       " 'seyane',\n",
       " 'aboson',\n",
       " 'dherrygs',\n",
       " 'akysai',\n",
       " 'novalen']"
      ]
     },
     "execution_count": 5,
     "metadata": {},
     "output_type": "execute_result"
    }
   ],
   "source": [
    "\n",
    "model.generate(20)"
   ]
  },
  {
   "cell_type": "code",
   "execution_count": 10,
   "id": "4d13789e",
   "metadata": {},
   "outputs": [],
   "source": [
    "from sklearn.decomposition import PCA\n",
    "pca = PCA(n_components=2)\n",
    "with torch.no_grad():\n",
    "    embeddindgs_2d = pca.fit_transform(model.embeddings)"
   ]
  },
  {
   "cell_type": "code",
   "execution_count": 21,
   "id": "bc1cb2e7",
   "metadata": {},
   "outputs": [
    {
     "data": {
      "image/png": "[encoded data removed]",
      "text/plain": [
       "<Figure size 800x800 with 1 Axes>"
      ]
     },
     "metadata": {},
     "output_type": "display_data"
    }
   ],
   "source": [
    "import matplotlib.pyplot as plt\n",
    "plt.figure(figsize=(8,8))\n",
    "plt.scatter(embeddindgs_2d[:, 0], embeddindgs_2d[:, 1], s=300)\n",
    "for i in range(27):\n",
    "    plt.text(embeddindgs_2d[i, 0], embeddindgs_2d[i, 1], itos[i], color='white', va='center', ha='center')\n",
    "plt.grid('minor')\n",
    "plt.title('Learned letter embeddings in 2d')\n",
    "plt.show()"
   ]
  },
  {
   "cell_type": "code",
   "execution_count": null,
   "id": "d136e22a",
   "metadata": {},
   "outputs": [],
   "source": []
  }
 ],
 "metadata": {
  "kernelspec": {
   "display_name": "Python 3",
   "language": "python",
   "name": "python3"
  },
  "language_info": {
   "codemirror_mode": {
    "name": "ipython",
    "version": 3
   },
   "file_extension": ".py",
   "mimetype": "text/x-python",
   "name": "python",
   "nbconvert_exporter": "python",
   "pygments_lexer": "ipython3",
   "version": "3.13.3"
  }
 },
 "nbformat": 4,
 "nbformat_minor": 5
}
