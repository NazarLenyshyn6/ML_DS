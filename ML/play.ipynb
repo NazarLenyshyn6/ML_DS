{
 "cells": [
  {
   "cell_type": "code",
   "execution_count": 1,
   "metadata": {},
   "outputs": [],
   "source": [
    "import math\n",
    "import numpy as np\n",
    "import random\n",
    "from collections import deque"
   ]
  },
  {
   "cell_type": "code",
   "execution_count": 2,
   "metadata": {},
   "outputs": [],
   "source": [
    "class Node:\n",
    "    def __init__(\n",
    "        self, \n",
    "        val: int | float, \n",
    "        label: str,\n",
    "        _left_component: 'Node' = None,\n",
    "        _right_component: 'Node' = None,\n",
    "        _operation: str = '',\n",
    "        _repr: str = None\n",
    "        ):\n",
    "        self.val = val\n",
    "        self.label = label\n",
    "        self.grad = 0\n",
    "        self._backward = lambda: None\n",
    "        self._left_component = _left_component\n",
    "        self._right_component = _right_component\n",
    "        self._operation = _operation\n",
    "        self._repr = f\"'{self.label}' | Value: {self.val}\"\n",
    "        \n",
    "    def __repr__(self) -> str:\n",
    "        return self._repr\n",
    "    \n",
    "    def __add__(self, other):\n",
    "        other = other if isinstance(other, Node) else Node(other, label=f'{self.label}_')\n",
    "        out_val = self.val + other.val\n",
    "        out_label = f\"({self.label} + {other.label})\"\n",
    "        out = Node(val=out_val, label=out_label, _left_component=self, _right_component=other, _operation='+')\n",
    "        def _backward():\n",
    "            self.grad += out.grad * 1.0\n",
    "            other.grad += out.grad * 1.0\n",
    "        out._backward = _backward\n",
    "        return out\n",
    "    \n",
    "    def __mul__(self, other):\n",
    "        other = other if isinstance(other, Node) else Node(other, label=f'{self.label}_')\n",
    "        out_val = self.val * other.val\n",
    "        out_label = f\"({self.label} * {other.label})\"\n",
    "        out = Node(val=out_val, label=out_label, _left_component=self, _right_component=other, _operation='*')\n",
    "        def _backward():\n",
    "            self.grad += out.grad * other.val\n",
    "            other.grad += out.grad * self.val\n",
    "        out._backward = _backward\n",
    "        return out\n",
    "    \n",
    "    def __sub__(self, other):\n",
    "        other = other  if  isinstance(other, Node) else Node(other,  label=f'{self.label}_')\n",
    "        out_val = self.val - other.val\n",
    "        out_label = f\"({self.label} - {other.label})\"\n",
    "        out = Node(val=out_val, label=out_label, _left_component=self, _right_component=other, _operation='-')\n",
    "        def _backward():\n",
    "            self.grad += out.grad\n",
    "            other.grad += -out.grad\n",
    "        out._backward = _backward\n",
    "        return out\n",
    "    \n",
    "    def __pow__(self, n):\n",
    "        return self.pow(n)\n",
    "    \n",
    "    def __truediv__(self, other):\n",
    "        return self  * (other ** (-1))\n",
    "            \n",
    "    def __radd__(self, other):\n",
    "        return self + other\n",
    "    \n",
    "    def _topological_ordering(self):\n",
    "        topologicaly_sored_nodes =  []\n",
    "        traversed_nodes = set()\n",
    "        \n",
    "        def traverse(node):\n",
    "            if not node in traversed_nodes:\n",
    "                traversed_nodes.add(node)\n",
    "                for component_node  in [node._left_component, node._right_component]:\n",
    "                    if component_node:\n",
    "                        traverse(component_node)\n",
    "                topologicaly_sored_nodes.append(node)\n",
    "        traverse(self)\n",
    "        return topologicaly_sored_nodes\n",
    "                \n",
    "    \n",
    "    def exp(self):\n",
    "        out_val = np.e ** self.val\n",
    "        out_label = f\"(e ^ {self.label})\"\n",
    "        out = Node(val=out_val, label=out_label, _left_component=self, _right_component=0, _operation='exp')\n",
    "        def _backward():\n",
    "            self.grad += out.grad * out_val\n",
    "        out._backward = _backward\n",
    "        return out\n",
    "    \n",
    "    def pow(self, n: int):\n",
    "        out_val = self.val ** n\n",
    "        out_label = f\"({self.label} ^ {n})\"\n",
    "        out = Node(val=out_val, label=out_label, _left_component=self, _right_component=None, _operation='pow')\n",
    "        def _backward():\n",
    "            self.grad += out.grad * (n * (self.val ** (n - 1)))\n",
    "        out._backward = _backward\n",
    "        return out\n",
    "    \n",
    "    def tanh(self):\n",
    "        t = (math.exp(2*self.val) - 1) / (math.exp(2*self.val) + 1)\n",
    "        out_val = t\n",
    "        out_label = f\"tanh({self.label})\"\n",
    "        out = Node(val=out_val, label=out_label, _left_component=self, _right_component=None, _operation='tanh')\n",
    "        def _backward():\n",
    "            self.grad += (1 - t**2) * out.grad\n",
    "        out._backward = _backward\n",
    "        return out\n",
    "    \n",
    "    def sin(self):\n",
    "        out_val = np.sin(self.val)\n",
    "        out_label = f\"(sin({self.label}))\"\n",
    "        out = Node(val=out_val, label=out_label, _left_component=self, _right_component=None, _operation='sin')\n",
    "        def _backward():\n",
    "            self.grad += out.grad * np.cos(self.val)\n",
    "        out._backward = _backward\n",
    "        return out\n",
    "    \n",
    "    def traverse(self):\n",
    "        topologicaly_ordered_nodes  =  self._topological_ordering()\n",
    "        for node in topologicaly_ordered_nodes[::-1]:\n",
    "            print(f'[{node}] | Left component: {node._left_component} | Right component: {node._right_component} | Op: {node._operation} | Grad: {node.grad}')\n",
    "            \n",
    "    def print_grads(self):\n",
    "        topologicaly_ordered_nodes  =  self._topological_ordering()\n",
    "        for node in  topologicaly_ordered_nodes[::-1]:\n",
    "            print(f'{node.label}  | grad: {node.grad}')\n",
    "        \n",
    "    def backward(self):\n",
    "        topologicaly_sorted_nodes = self._topological_ordering()\n",
    "        self.grad = 1.0\n",
    "        for node in topologicaly_sorted_nodes[::-1]:\n",
    "            node._backward()\n",
    "    "
   ]
  },
  {
   "cell_type": "code",
   "execution_count": 3,
   "metadata": {},
   "outputs": [
    {
     "name": "stdout",
     "output_type": "stream",
     "text": [
      "['tanh((((x1 * w1) + (x2 * w1)) + b))' | Value: 0.707106777676776] | Left component: '(((x1 * w1) + (x2 * w1)) + b)' | Value: 0.88137358 | Right component: None | Op: tanh | Grad: 1.0\n",
      "['(((x1 * w1) + (x2 * w1)) + b)' | Value: 0.88137358] | Left component: '((x1 * w1) + (x2 * w1))' | Value: -6.0 | Right component: 'b' | Value: 6.88137358 | Op: + | Grad: 0.5000000049635664\n",
      "['b' | Value: 6.88137358] | Left component: None | Right component: None | Op:  | Grad: 0.5000000049635664\n",
      "['((x1 * w1) + (x2 * w1))' | Value: -6.0] | Left component: '(x1 * w1)' | Value: -6.0 | Right component: '(x2 * w1)' | Value: 0.0 | Op: + | Grad: 0.5000000049635664\n",
      "['(x2 * w1)' | Value: 0.0] | Left component: 'x2' | Value: 0.0 | Right component: 'w1' | Value: 1.0 | Op: * | Grad: 0.5000000049635664\n",
      "['w1' | Value: 1.0] | Left component: None | Right component: None | Op:  | Grad: 0.0\n",
      "['x2' | Value: 0.0] | Left component: None | Right component: None | Op:  | Grad: 0.5000000049635664\n",
      "['(x1 * w1)' | Value: -6.0] | Left component: 'x1' | Value: 2.0 | Right component: 'w1' | Value: -3.0 | Op: * | Grad: 0.5000000049635664\n",
      "['w1' | Value: -3.0] | Left component: None | Right component: None | Op:  | Grad: 1.000000009927133\n",
      "['x1' | Value: 2.0] | Left component: None | Right component: None | Op:  | Grad: -1.5000000148906993\n"
     ]
    }
   ],
   "source": [
    "x1 = Node(2.0, label='x1')\n",
    "x2 = Node(0.0, label='x2')\n",
    "w1 = Node(-3.0, label='w1')\n",
    "w2 = Node(1.0, label='w1')\n",
    "b = Node(6.88137358, label='b')\n",
    "x1w1 = x1*w1\n",
    "x2w2 = x2*w2\n",
    "x1w1x2w2 = x1w1 + x2w2\n",
    "n = x1w1x2w2 + b\n",
    "o = n.tanh()\n",
    "\n",
    "o.backward()\n",
    "o.traverse()"
   ]
  },
  {
   "cell_type": "code",
   "execution_count": 4,
   "metadata": {},
   "outputs": [
    {
     "name": "stdout",
     "output_type": "stream",
     "text": [
      "['(((e ^ ((((x1 * w1) + (x2 * w1)) + b) * (((x1 * w1) + (x2 * w1)) + b)_)) - (e ^ ((((x1 * w1) + (x2 * w1)) + b) * (((x1 * w1) + (x2 * w1)) + b)_))_) * (((e ^ ((((x1 * w1) + (x2 * w1)) + b) * (((x1 * w1) + (x2 * w1)) + b)_)) + (e ^ ((((x1 * w1) + (x2 * w1)) + b) * (((x1 * w1) + (x2 * w1)) + b)_))_) ^ -1))' | Value: 0.7071067776767759] | Left component: '((e ^ ((((x1 * w1) + (x2 * w1)) + b) * (((x1 * w1) + (x2 * w1)) + b)_)) - (e ^ ((((x1 * w1) + (x2 * w1)) + b) * (((x1 * w1) + (x2 * w1)) + b)_))_)' | Value: 4.8284270429204 | Right component: '(((e ^ ((((x1 * w1) + (x2 * w1)) + b) * (((x1 * w1) + (x2 * w1)) + b)_)) + (e ^ ((((x1 * w1) + (x2 * w1)) + b) * (((x1 * w1) + (x2 * w1)) + b)_))_) ^ -1)' | Value: 0.146446611161612 | Op: * | Grad: 1.0\n",
      "['(((e ^ ((((x1 * w1) + (x2 * w1)) + b) * (((x1 * w1) + (x2 * w1)) + b)_)) + (e ^ ((((x1 * w1) + (x2 * w1)) + b) * (((x1 * w1) + (x2 * w1)) + b)_))_) ^ -1)' | Value: 0.146446611161612] | Left component: '((e ^ ((((x1 * w1) + (x2 * w1)) + b) * (((x1 * w1) + (x2 * w1)) + b)_)) + (e ^ ((((x1 * w1) + (x2 * w1)) + b) * (((x1 * w1) + (x2 * w1)) + b)_))_)' | Value: 6.8284270429204 | Right component: None | Op: pow | Grad: 4.8284270429204\n",
      "['((e ^ ((((x1 * w1) + (x2 * w1)) + b) * (((x1 * w1) + (x2 * w1)) + b)_)) + (e ^ ((((x1 * w1) + (x2 * w1)) + b) * (((x1 * w1) + (x2 * w1)) + b)_))_)' | Value: 6.8284270429204] | Left component: '(e ^ ((((x1 * w1) + (x2 * w1)) + b) * (((x1 * w1) + (x2 * w1)) + b)_))' | Value: 5.8284270429204 | Right component: '(e ^ ((((x1 * w1) + (x2 * w1)) + b) * (((x1 * w1) + (x2 * w1)) + b)_))_' | Value: 1 | Op: + | Grad: -0.10355339132017125\n",
      "['(e ^ ((((x1 * w1) + (x2 * w1)) + b) * (((x1 * w1) + (x2 * w1)) + b)_))_' | Value: 1] | Left component: None | Right component: None | Op:  | Grad: -0.10355339132017125\n",
      "['((e ^ ((((x1 * w1) + (x2 * w1)) + b) * (((x1 * w1) + (x2 * w1)) + b)_)) - (e ^ ((((x1 * w1) + (x2 * w1)) + b) * (((x1 * w1) + (x2 * w1)) + b)_))_)' | Value: 4.8284270429204] | Left component: '(e ^ ((((x1 * w1) + (x2 * w1)) + b) * (((x1 * w1) + (x2 * w1)) + b)_))' | Value: 5.8284270429204 | Right component: '(e ^ ((((x1 * w1) + (x2 * w1)) + b) * (((x1 * w1) + (x2 * w1)) + b)_))_' | Value: 1 | Op: - | Grad: 0.146446611161612\n",
      "['(e ^ ((((x1 * w1) + (x2 * w1)) + b) * (((x1 * w1) + (x2 * w1)) + b)_))_' | Value: 1] | Left component: None | Right component: None | Op:  | Grad: -0.146446611161612\n",
      "['(e ^ ((((x1 * w1) + (x2 * w1)) + b) * (((x1 * w1) + (x2 * w1)) + b)_))' | Value: 5.8284270429204] | Left component: '((((x1 * w1) + (x2 * w1)) + b) * (((x1 * w1) + (x2 * w1)) + b)_)' | Value: 1.76274716 | Right component: 0 | Op: exp | Grad: 0.04289321984144076\n",
      "['((((x1 * w1) + (x2 * w1)) + b) * (((x1 * w1) + (x2 * w1)) + b)_)' | Value: 1.76274716] | Left component: '(((x1 * w1) + (x2 * w1)) + b)' | Value: 0.88137358 | Right component: '(((x1 * w1) + (x2 * w1)) + b)_' | Value: 2 | Op: * | Grad: 0.2500000024817832\n",
      "['(((x1 * w1) + (x2 * w1)) + b)_' | Value: 2] | Left component: None | Right component: None | Op:  | Grad: 0.22034339718737816\n",
      "['(((x1 * w1) + (x2 * w1)) + b)' | Value: 0.88137358] | Left component: '((x1 * w1) + (x2 * w1))' | Value: -6.0 | Right component: 'b' | Value: 6.88137358 | Op: + | Grad: 0.5000000049635664\n",
      "['b' | Value: 6.88137358] | Left component: None | Right component: None | Op:  | Grad: 0.5000000049635664\n",
      "['((x1 * w1) + (x2 * w1))' | Value: -6.0] | Left component: '(x1 * w1)' | Value: -6.0 | Right component: '(x2 * w1)' | Value: 0.0 | Op: + | Grad: 0.5000000049635664\n",
      "['(x2 * w1)' | Value: 0.0] | Left component: 'x2' | Value: 0.0 | Right component: 'w1' | Value: 1.0 | Op: * | Grad: 0.5000000049635664\n",
      "['w1' | Value: 1.0] | Left component: None | Right component: None | Op:  | Grad: 0.0\n",
      "['x2' | Value: 0.0] | Left component: None | Right component: None | Op:  | Grad: 0.5000000049635664\n",
      "['(x1 * w1)' | Value: -6.0] | Left component: 'x1' | Value: 2.0 | Right component: 'w1' | Value: -3.0 | Op: * | Grad: 0.5000000049635664\n",
      "['w1' | Value: -3.0] | Left component: None | Right component: None | Op:  | Grad: 1.000000009927133\n",
      "['x1' | Value: 2.0] | Left component: None | Right component: None | Op:  | Grad: -1.5000000148906993\n"
     ]
    }
   ],
   "source": [
    "x1 = Node(2.0, label='x1')\n",
    "x2 = Node(0.0, label='x2')\n",
    "w1 = Node(-3.0, label='w1')\n",
    "w2 = Node(1.0, label='w1')\n",
    "b = Node(6.88137358, label='b')\n",
    "x1w1 = x1*w1\n",
    "x2w2 = x2*w2\n",
    "x1w1x2w2 = x1w1 + x2w2\n",
    "n = x1w1x2w2 + b\n",
    "\n",
    "e =  (n * 2).exp()\n",
    "o = (e - 1)  / (e + 1)\n",
    "o.backward()\n",
    "o.traverse()"
   ]
  },
  {
   "cell_type": "code",
   "execution_count": 5,
   "metadata": {},
   "outputs": [
    {
     "name": "stdout",
     "output_type": "stream",
     "text": [
      "0.7064193777288968\n",
      "---\n",
      "x2: 0.5009716627691181\n",
      "w2: 0.0\n",
      "x1: -1.5029149883073543\n",
      "w1: 1.0019433255382362\n"
     ]
    }
   ],
   "source": [
    "import torch\n",
    "\n",
    "x1 =  torch.Tensor([2.0]).double();   x1.requires_grad = True\n",
    "x2 =  torch.Tensor([0.0]).double();   x2.requires_grad = True\n",
    "w1 =  torch.Tensor([-3.0]).double();  w1.requires_grad = True\n",
    "w2 =  torch.Tensor([1.0]).double();   w2.requires_grad = True\n",
    "b = torch.Tensor([6.88]).double();    b.requires_grad = True\n",
    "n  =  x1*w1 + x2*w2  + b\n",
    "o  =  torch.tanh(n)\n",
    "\n",
    "print(o.data.item())\n",
    "o.backward()\n",
    "\n",
    "print('---')\n",
    "print(f'x2:', x2.grad.item())\n",
    "print(f'w2:', w2.grad.item())\n",
    "print(f'x1:', x1.grad.item())\n",
    "print(f'w1:', w1.grad.item())"
   ]
  },
  {
   "cell_type": "code",
   "execution_count": 6,
   "metadata": {},
   "outputs": [],
   "source": [
    "class Neuron:\n",
    "    def __init__(self, nin):\n",
    "        self.w = [Node(random.uniform(-1, 1), label=f'w{neuron_idx}') for neuron_idx in range(nin)]\n",
    "        self.b = Node(random.uniform(-1, 1), label='b')\n",
    "        \n",
    "    def __repr__(self):\n",
    "        return f'Neuron(nin={len(self.w)})'\n",
    "    \n",
    "    def __call__(self, x, ):\n",
    "        act =  sum((wi*xi for wi, xi in zip(self.w, x))) + self.b\n",
    "        out = act.tanh()\n",
    "        return out\n",
    "    \n",
    "    def parameters(self):\n",
    "        return self.w + [self.b]\n",
    "    \n",
    "class  Layer:\n",
    "    def __init__(self, nin, nout):\n",
    "        self._nin = nin\n",
    "        self._nout = nout\n",
    "        self.neurons = [Neuron(nin)  for _ in range(nout)]\n",
    "        \n",
    "    def  __repr__(self):\n",
    "        return  f'Layer(nin={self._nin}, nout={self._nout})'\n",
    "        \n",
    "    def  __call__(self,  x):\n",
    "        outs  = [n(x) for n in self.neurons]\n",
    "        return outs[0] if len(outs)  ==  1  else outs\n",
    "    \n",
    "    def parameters(self):\n",
    "        params = []\n",
    "        for neuron in self.neurons:\n",
    "            params.extend(neuron.parameters())\n",
    "        return params\n",
    "    \n",
    "class MLP:\n",
    "    def  __init__(self, nin, layers: list = [2], nout: int =  1):\n",
    "        self.nin =  nin\n",
    "        self.layers_dims =  layers\n",
    "        self.nout = nout\n",
    "        self.mlp_layers  = [nin] +  layers + [nout]\n",
    "        for right_pointer in  range(1, len(self.mlp_layers)):\n",
    "            self.mlp_layers[right_pointer - 1] = Layer(self.mlp_layers[right_pointer - 1], \n",
    "                                                       self.mlp_layers[right_pointer])\n",
    "        self.mlp_layers.pop()\n",
    "    def __repr__(self):\n",
    "        return  f'MLP(nin={self.nin}, layers_dims={self.layers_dims}, nout={self.nout})'\n",
    "    \n",
    "    def __call__(self, x):\n",
    "        for layer in  self.mlp_layers:\n",
    "            x = layer(x)\n",
    "        return x\n",
    "    \n",
    "    def parameters(self):\n",
    "        params = []\n",
    "        for layer in self.mlp_layers:\n",
    "            params.extend(layer.parameters())\n",
    "        return params"
   ]
  },
  {
   "cell_type": "code",
   "execution_count": 7,
   "metadata": {},
   "outputs": [
    {
     "data": {
      "text/plain": [
       "MLP(nin=3, layers_dims=[4, 4], nout=1)"
      ]
     },
     "execution_count": 7,
     "metadata": {},
     "output_type": "execute_result"
    }
   ],
   "source": [
    "model  = MLP(3, [4,4],  1)\n",
    "model"
   ]
  },
  {
   "cell_type": "code",
   "execution_count": 8,
   "metadata": {},
   "outputs": [
    {
     "data": {
      "text/plain": [
       "1.2226277976863635"
      ]
     },
     "execution_count": 8,
     "metadata": {},
     "output_type": "execute_result"
    }
   ],
   "source": [
    "xs  =  [\n",
    "    [2.0,  3.0, -1.0],\n",
    "    [3.0, -1.0,  0.5],\n",
    "    [0.5, 1.0,  1.0],\n",
    "    [1.0, 1.0,  -1.0]\n",
    "    ]\n",
    "\n",
    "ys  = [1.0,  -1.0, -1.0,  1.0]\n",
    "\n",
    "y_pred = [model(x) for  x  in  xs]\n",
    "y_pred_vals = [prediction.val for prediction in y_pred]\n",
    "y_pred_vals\n",
    "loss = sum([(yout  - ygt) ** 2 for  ygt, yout in zip(ys, y_pred)]) / len(y_pred_vals)\n",
    "loss.val"
   ]
  },
  {
   "cell_type": "code",
   "execution_count": 9,
   "metadata": {},
   "outputs": [
    {
     "data": {
      "text/plain": [
       "1.2054957801787323"
      ]
     },
     "execution_count": 9,
     "metadata": {},
     "output_type": "execute_result"
    }
   ],
   "source": [
    "loss.backward()\n",
    "for p in  model.parameters():\n",
    "    p.val -= 0.001  * p.grad\n",
    "    \n",
    "y_pred = [model(x) for  x  in  xs]\n",
    "y_pred_vals = [prediction.val for prediction in y_pred]\n",
    "y_pred_vals\n",
    "loss = sum([(yout  - ygt) ** 2 for  ygt, yout in zip(ys, y_pred)]) / len(y_pred_vals)\n",
    "loss.val"
   ]
  },
  {
   "cell_type": "code",
   "execution_count": 30,
   "metadata": {},
   "outputs": [],
   "source": [
    "# F = a * b + c\n",
    "# K = F * m + n\n",
    "# K  = (a*b + c) * m + n\n",
    "# P = K * s + h\n",
    "# P = ((a*b + c) * m + n) * s + h\n",
    "# P | a\n",
    "# P | b\n",
    "# P | c\n",
    "# ...\n",
    "# P | h\n",
    "\n",
    "a = Node(1.0, label='a')\n",
    "b = Node(3.0, label='b')\n",
    "c = Node(5.0, label='c')\n",
    "m = Node(1.0, label='m')\n",
    "n = Node(10.0, label='n')\n",
    "F = a*b + c\n",
    "K = F * m + n\n"
   ]
  },
  {
   "cell_type": "code",
   "execution_count": 54,
   "metadata": {},
   "outputs": [
    {
     "name": "stdout",
     "output_type": "stream",
     "text": [
      "tanh(((x1 * w1) + (x2 * w2)))  | grad: 1.0\n",
      "((x1 * w1) + (x2 * w2))  | grad: 0.0013409506830258655\n",
      "(x2 * w2)  | grad: 0.0013409506830258655\n",
      "w2  | grad: 0.0013409506830258655\n",
      "x2  | grad: 0.002681901366051731\n",
      "(x1 * w1)  | grad: 0.0013409506830258655\n",
      "w1  | grad: 0.0013409506830258655\n",
      "x1  | grad: 0.002681901366051731\n"
     ]
    }
   ],
   "source": [
    "x1 = Node(1.0, label='x1')\n",
    "w1 = Node(2.0, label='w1')\n",
    "\n",
    "x2 = Node(1.0, label='x2')\n",
    "w2 = Node(2.0, label='w2')\n",
    "\n",
    "\n",
    "x1w1 = x1*w1\n",
    "x2w2 = x2*w2\n",
    "\n",
    "x1w1x2w2 = x1w1 + x2w2\n",
    "\n",
    "result = x1w1x2w2.tanh()\n",
    "result.backward()\n",
    "result.print_grads()\n"
   ]
  },
  {
   "cell_type": "code",
   "execution_count": 58,
   "metadata": {},
   "outputs": [
    {
     "data": {
      "text/plain": [
       "0.5393125111453734"
      ]
     },
     "execution_count": 58,
     "metadata": {},
     "output_type": "execute_result"
    }
   ],
   "source": [
    "model = MLP(2, [4, 5], 1)\n",
    "x = [20, 1]\n",
    "res = model(x)\n",
    "res.val"
   ]
  },
  {
   "cell_type": "code",
   "execution_count": 65,
   "metadata": {},
   "outputs": [
    {
     "name": "stdout",
     "output_type": "stream",
     "text": [
      "tanh((((((((w0 * tanh(((((((w0 * tanh(((((w0 * w0_) + (w0 * w0_)_) + (w1 * w1_)) + b))) + (w0 * tanh(((((w0 * w0_) + (w0 * w0_)_) + (w1 * w1_)) + b)))_) + (w1 * tanh(((((w0 * w0_) + (w0 * w0_)_) + (w1 * w1_)) + b)))) + (w2 * tanh(((((w0 * w0_) + (w0 * w0_)_) + (w1 * w1_)) + b)))) + (w3 * tanh(((((w0 * w0_) + (w0 * w0_)_) + (w1 * w1_)) + b)))) + b))) + (w0 * tanh(((((((w0 * tanh(((((w0 * w0_) + (w0 * w0_)_) + (w1 * w1_)) + b))) + (w0 * tanh(((((w0 * w0_) + (w0 * w0_)_) + (w1 * w1_)) + b)))_) + (w1 * tanh(((((w0 * w0_) + (w0 * w0_)_) + (w1 * w1_)) + b)))) + (w2 * tanh(((((w0 * w0_) + (w0 * w0_)_) + (w1 * w1_)) + b)))) + (w3 * tanh(((((w0 * w0_) + (w0 * w0_)_) + (w1 * w1_)) + b)))) + b)))_) + (w1 * tanh(((((((w0 * tanh(((((w0 * w0_) + (w0 * w0_)_) + (w1 * w1_)) + b))) + (w0 * tanh(((((w0 * w0_) + (w0 * w0_)_) + (w1 * w1_)) + b)))_) + (w1 * tanh(((((w0 * w0_) + (w0 * w0_)_) + (w1 * w1_)) + b)))) + (w2 * tanh(((((w0 * w0_) + (w0 * w0_)_) + (w1 * w1_)) + b)))) + (w3 * tanh(((((w0 * w0_) + (w0 * w0_)_) + (w1 * w1_)) + b)))) + b)))) + (w2 * tanh(((((((w0 * tanh(((((w0 * w0_) + (w0 * w0_)_) + (w1 * w1_)) + b))) + (w0 * tanh(((((w0 * w0_) + (w0 * w0_)_) + (w1 * w1_)) + b)))_) + (w1 * tanh(((((w0 * w0_) + (w0 * w0_)_) + (w1 * w1_)) + b)))) + (w2 * tanh(((((w0 * w0_) + (w0 * w0_)_) + (w1 * w1_)) + b)))) + (w3 * tanh(((((w0 * w0_) + (w0 * w0_)_) + (w1 * w1_)) + b)))) + b)))) + (w3 * tanh(((((((w0 * tanh(((((w0 * w0_) + (w0 * w0_)_) + (w1 * w1_)) + b))) + (w0 * tanh(((((w0 * w0_) + (w0 * w0_)_) + (w1 * w1_)) + b)))_) + (w1 * tanh(((((w0 * w0_) + (w0 * w0_)_) + (w1 * w1_)) + b)))) + (w2 * tanh(((((w0 * w0_) + (w0 * w0_)_) + (w1 * w1_)) + b)))) + (w3 * tanh(((((w0 * w0_) + (w0 * w0_)_) + (w1 * w1_)) + b)))) + b)))) + (w4 * tanh(((((((w0 * tanh(((((w0 * w0_) + (w0 * w0_)_) + (w1 * w1_)) + b))) + (w0 * tanh(((((w0 * w0_) + (w0 * w0_)_) + (w1 * w1_)) + b)))_) + (w1 * tanh(((((w0 * w0_) + (w0 * w0_)_) + (w1 * w1_)) + b)))) + (w2 * tanh(((((w0 * w0_) + (w0 * w0_)_) + (w1 * w1_)) + b)))) + (w3 * tanh(((((w0 * w0_) + (w0 * w0_)_) + (w1 * w1_)) + b)))) + b)))) + b))  | grad: 1.0\n",
      "(((((((w0 * tanh(((((((w0 * tanh(((((w0 * w0_) + (w0 * w0_)_) + (w1 * w1_)) + b))) + (w0 * tanh(((((w0 * w0_) + (w0 * w0_)_) + (w1 * w1_)) + b)))_) + (w1 * tanh(((((w0 * w0_) + (w0 * w0_)_) + (w1 * w1_)) + b)))) + (w2 * tanh(((((w0 * w0_) + (w0 * w0_)_) + (w1 * w1_)) + b)))) + (w3 * tanh(((((w0 * w0_) + (w0 * w0_)_) + (w1 * w1_)) + b)))) + b))) + (w0 * tanh(((((((w0 * tanh(((((w0 * w0_) + (w0 * w0_)_) + (w1 * w1_)) + b))) + (w0 * tanh(((((w0 * w0_) + (w0 * w0_)_) + (w1 * w1_)) + b)))_) + (w1 * tanh(((((w0 * w0_) + (w0 * w0_)_) + (w1 * w1_)) + b)))) + (w2 * tanh(((((w0 * w0_) + (w0 * w0_)_) + (w1 * w1_)) + b)))) + (w3 * tanh(((((w0 * w0_) + (w0 * w0_)_) + (w1 * w1_)) + b)))) + b)))_) + (w1 * tanh(((((((w0 * tanh(((((w0 * w0_) + (w0 * w0_)_) + (w1 * w1_)) + b))) + (w0 * tanh(((((w0 * w0_) + (w0 * w0_)_) + (w1 * w1_)) + b)))_) + (w1 * tanh(((((w0 * w0_) + (w0 * w0_)_) + (w1 * w1_)) + b)))) + (w2 * tanh(((((w0 * w0_) + (w0 * w0_)_) + (w1 * w1_)) + b)))) + (w3 * tanh(((((w0 * w0_) + (w0 * w0_)_) + (w1 * w1_)) + b)))) + b)))) + (w2 * tanh(((((((w0 * tanh(((((w0 * w0_) + (w0 * w0_)_) + (w1 * w1_)) + b))) + (w0 * tanh(((((w0 * w0_) + (w0 * w0_)_) + (w1 * w1_)) + b)))_) + (w1 * tanh(((((w0 * w0_) + (w0 * w0_)_) + (w1 * w1_)) + b)))) + (w2 * tanh(((((w0 * w0_) + (w0 * w0_)_) + (w1 * w1_)) + b)))) + (w3 * tanh(((((w0 * w0_) + (w0 * w0_)_) + (w1 * w1_)) + b)))) + b)))) + (w3 * tanh(((((((w0 * tanh(((((w0 * w0_) + (w0 * w0_)_) + (w1 * w1_)) + b))) + (w0 * tanh(((((w0 * w0_) + (w0 * w0_)_) + (w1 * w1_)) + b)))_) + (w1 * tanh(((((w0 * w0_) + (w0 * w0_)_) + (w1 * w1_)) + b)))) + (w2 * tanh(((((w0 * w0_) + (w0 * w0_)_) + (w1 * w1_)) + b)))) + (w3 * tanh(((((w0 * w0_) + (w0 * w0_)_) + (w1 * w1_)) + b)))) + b)))) + (w4 * tanh(((((((w0 * tanh(((((w0 * w0_) + (w0 * w0_)_) + (w1 * w1_)) + b))) + (w0 * tanh(((((w0 * w0_) + (w0 * w0_)_) + (w1 * w1_)) + b)))_) + (w1 * tanh(((((w0 * w0_) + (w0 * w0_)_) + (w1 * w1_)) + b)))) + (w2 * tanh(((((w0 * w0_) + (w0 * w0_)_) + (w1 * w1_)) + b)))) + (w3 * tanh(((((w0 * w0_) + (w0 * w0_)_) + (w1 * w1_)) + b)))) + b)))) + b)  | grad: 2.1274260459662147\n",
      "b  | grad: 4.254852091932429\n",
      "((((((w0 * tanh(((((((w0 * tanh(((((w0 * w0_) + (w0 * w0_)_) + (w1 * w1_)) + b))) + (w0 * tanh(((((w0 * w0_) + (w0 * w0_)_) + (w1 * w1_)) + b)))_) + (w1 * tanh(((((w0 * w0_) + (w0 * w0_)_) + (w1 * w1_)) + b)))) + (w2 * tanh(((((w0 * w0_) + (w0 * w0_)_) + (w1 * w1_)) + b)))) + (w3 * tanh(((((w0 * w0_) + (w0 * w0_)_) + (w1 * w1_)) + b)))) + b))) + (w0 * tanh(((((((w0 * tanh(((((w0 * w0_) + (w0 * w0_)_) + (w1 * w1_)) + b))) + (w0 * tanh(((((w0 * w0_) + (w0 * w0_)_) + (w1 * w1_)) + b)))_) + (w1 * tanh(((((w0 * w0_) + (w0 * w0_)_) + (w1 * w1_)) + b)))) + (w2 * tanh(((((w0 * w0_) + (w0 * w0_)_) + (w1 * w1_)) + b)))) + (w3 * tanh(((((w0 * w0_) + (w0 * w0_)_) + (w1 * w1_)) + b)))) + b)))_) + (w1 * tanh(((((((w0 * tanh(((((w0 * w0_) + (w0 * w0_)_) + (w1 * w1_)) + b))) + (w0 * tanh(((((w0 * w0_) + (w0 * w0_)_) + (w1 * w1_)) + b)))_) + (w1 * tanh(((((w0 * w0_) + (w0 * w0_)_) + (w1 * w1_)) + b)))) + (w2 * tanh(((((w0 * w0_) + (w0 * w0_)_) + (w1 * w1_)) + b)))) + (w3 * tanh(((((w0 * w0_) + (w0 * w0_)_) + (w1 * w1_)) + b)))) + b)))) + (w2 * tanh(((((((w0 * tanh(((((w0 * w0_) + (w0 * w0_)_) + (w1 * w1_)) + b))) + (w0 * tanh(((((w0 * w0_) + (w0 * w0_)_) + (w1 * w1_)) + b)))_) + (w1 * tanh(((((w0 * w0_) + (w0 * w0_)_) + (w1 * w1_)) + b)))) + (w2 * tanh(((((w0 * w0_) + (w0 * w0_)_) + (w1 * w1_)) + b)))) + (w3 * tanh(((((w0 * w0_) + (w0 * w0_)_) + (w1 * w1_)) + b)))) + b)))) + (w3 * tanh(((((((w0 * tanh(((((w0 * w0_) + (w0 * w0_)_) + (w1 * w1_)) + b))) + (w0 * tanh(((((w0 * w0_) + (w0 * w0_)_) + (w1 * w1_)) + b)))_) + (w1 * tanh(((((w0 * w0_) + (w0 * w0_)_) + (w1 * w1_)) + b)))) + (w2 * tanh(((((w0 * w0_) + (w0 * w0_)_) + (w1 * w1_)) + b)))) + (w3 * tanh(((((w0 * w0_) + (w0 * w0_)_) + (w1 * w1_)) + b)))) + b)))) + (w4 * tanh(((((((w0 * tanh(((((w0 * w0_) + (w0 * w0_)_) + (w1 * w1_)) + b))) + (w0 * tanh(((((w0 * w0_) + (w0 * w0_)_) + (w1 * w1_)) + b)))_) + (w1 * tanh(((((w0 * w0_) + (w0 * w0_)_) + (w1 * w1_)) + b)))) + (w2 * tanh(((((w0 * w0_) + (w0 * w0_)_) + (w1 * w1_)) + b)))) + (w3 * tanh(((((w0 * w0_) + (w0 * w0_)_) + (w1 * w1_)) + b)))) + b))))  | grad: 4.254852091932429\n",
      "(w4 * tanh(((((((w0 * tanh(((((w0 * w0_) + (w0 * w0_)_) + (w1 * w1_)) + b))) + (w0 * tanh(((((w0 * w0_) + (w0 * w0_)_) + (w1 * w1_)) + b)))_) + (w1 * tanh(((((w0 * w0_) + (w0 * w0_)_) + (w1 * w1_)) + b)))) + (w2 * tanh(((((w0 * w0_) + (w0 * w0_)_) + (w1 * w1_)) + b)))) + (w3 * tanh(((((w0 * w0_) + (w0 * w0_)_) + (w1 * w1_)) + b)))) + b)))  | grad: 7.0914201532207155\n",
      "tanh(((((((w0 * tanh(((((w0 * w0_) + (w0 * w0_)_) + (w1 * w1_)) + b))) + (w0 * tanh(((((w0 * w0_) + (w0 * w0_)_) + (w1 * w1_)) + b)))_) + (w1 * tanh(((((w0 * w0_) + (w0 * w0_)_) + (w1 * w1_)) + b)))) + (w2 * tanh(((((w0 * w0_) + (w0 * w0_)_) + (w1 * w1_)) + b)))) + (w3 * tanh(((((w0 * w0_) + (w0 * w0_)_) + (w1 * w1_)) + b)))) + b))  | grad: 10.447738868164041\n",
      "((((((w0 * tanh(((((w0 * w0_) + (w0 * w0_)_) + (w1 * w1_)) + b))) + (w0 * tanh(((((w0 * w0_) + (w0 * w0_)_) + (w1 * w1_)) + b)))_) + (w1 * tanh(((((w0 * w0_) + (w0 * w0_)_) + (w1 * w1_)) + b)))) + (w2 * tanh(((((w0 * w0_) + (w0 * w0_)_) + (w1 * w1_)) + b)))) + (w3 * tanh(((((w0 * w0_) + (w0 * w0_)_) + (w1 * w1_)) + b)))) + b)  | grad: 14.624075821093218\n",
      "b  | grad: 19.498767761457625\n",
      "(((((w0 * tanh(((((w0 * w0_) + (w0 * w0_)_) + (w1 * w1_)) + b))) + (w0 * tanh(((((w0 * w0_) + (w0 * w0_)_) + (w1 * w1_)) + b)))_) + (w1 * tanh(((((w0 * w0_) + (w0 * w0_)_) + (w1 * w1_)) + b)))) + (w2 * tanh(((((w0 * w0_) + (w0 * w0_)_) + (w1 * w1_)) + b)))) + (w3 * tanh(((((w0 * w0_) + (w0 * w0_)_) + (w1 * w1_)) + b))))  | grad: 19.498767761457625\n",
      "(w3 * tanh(((((w0 * w0_) + (w0 * w0_)_) + (w1 * w1_)) + b)))  | grad: 25.06984426473123\n",
      "w3  | grad: 31.337305330905096\n",
      "((((w0 * tanh(((((w0 * w0_) + (w0 * w0_)_) + (w1 * w1_)) + b))) + (w0 * tanh(((((w0 * w0_) + (w0 * w0_)_) + (w1 * w1_)) + b)))_) + (w1 * tanh(((((w0 * w0_) + (w0 * w0_)_) + (w1 * w1_)) + b)))) + (w2 * tanh(((((w0 * w0_) + (w0 * w0_)_) + (w1 * w1_)) + b))))  | grad: 25.06984426473123\n",
      "(w2 * tanh(((((w0 * w0_) + (w0 * w0_)_) + (w1 * w1_)) + b)))  | grad: 31.337305330914038\n",
      "w2  | grad: -38.30015458819115\n",
      "(((w0 * tanh(((((w0 * w0_) + (w0 * w0_)_) + (w1 * w1_)) + b))) + (w0 * tanh(((((w0 * w0_) + (w0 * w0_)_) + (w1 * w1_)) + b)))_) + (w1 * tanh(((((w0 * w0_) + (w0 * w0_)_) + (w1 * w1_)) + b))))  | grad: 31.337305330914038\n",
      "(w1 * tanh(((((w0 * w0_) + (w0 * w0_)_) + (w1 * w1_)) + b)))  | grad: 38.30115096000605\n",
      "w1  | grad: 45.96138115091857\n",
      "((w0 * tanh(((((w0 * w0_) + (w0 * w0_)_) + (w1 * w1_)) + b))) + (w0 * tanh(((((w0 * w0_) + (w0 * w0_)_) + (w1 * w1_)) + b)))_)  | grad: 38.30115096000605\n",
      "(w0 * tanh(((((w0 * w0_) + (w0 * w0_)_) + (w1 * w1_)) + b)))_  | grad: 45.961381152007256\n",
      "(w0 * tanh(((((w0 * w0_) + (w0 * w0_)_) + (w1 * w1_)) + b)))  | grad: 45.961381152007256\n",
      "w0  | grad: 54.317995906551474\n",
      "w4  | grad: 0.1460808287220473\n",
      "(((((w0 * tanh(((((((w0 * tanh(((((w0 * w0_) + (w0 * w0_)_) + (w1 * w1_)) + b))) + (w0 * tanh(((((w0 * w0_) + (w0 * w0_)_) + (w1 * w1_)) + b)))_) + (w1 * tanh(((((w0 * w0_) + (w0 * w0_)_) + (w1 * w1_)) + b)))) + (w2 * tanh(((((w0 * w0_) + (w0 * w0_)_) + (w1 * w1_)) + b)))) + (w3 * tanh(((((w0 * w0_) + (w0 * w0_)_) + (w1 * w1_)) + b)))) + b))) + (w0 * tanh(((((((w0 * tanh(((((w0 * w0_) + (w0 * w0_)_) + (w1 * w1_)) + b))) + (w0 * tanh(((((w0 * w0_) + (w0 * w0_)_) + (w1 * w1_)) + b)))_) + (w1 * tanh(((((w0 * w0_) + (w0 * w0_)_) + (w1 * w1_)) + b)))) + (w2 * tanh(((((w0 * w0_) + (w0 * w0_)_) + (w1 * w1_)) + b)))) + (w3 * tanh(((((w0 * w0_) + (w0 * w0_)_) + (w1 * w1_)) + b)))) + b)))_) + (w1 * tanh(((((((w0 * tanh(((((w0 * w0_) + (w0 * w0_)_) + (w1 * w1_)) + b))) + (w0 * tanh(((((w0 * w0_) + (w0 * w0_)_) + (w1 * w1_)) + b)))_) + (w1 * tanh(((((w0 * w0_) + (w0 * w0_)_) + (w1 * w1_)) + b)))) + (w2 * tanh(((((w0 * w0_) + (w0 * w0_)_) + (w1 * w1_)) + b)))) + (w3 * tanh(((((w0 * w0_) + (w0 * w0_)_) + (w1 * w1_)) + b)))) + b)))) + (w2 * tanh(((((((w0 * tanh(((((w0 * w0_) + (w0 * w0_)_) + (w1 * w1_)) + b))) + (w0 * tanh(((((w0 * w0_) + (w0 * w0_)_) + (w1 * w1_)) + b)))_) + (w1 * tanh(((((w0 * w0_) + (w0 * w0_)_) + (w1 * w1_)) + b)))) + (w2 * tanh(((((w0 * w0_) + (w0 * w0_)_) + (w1 * w1_)) + b)))) + (w3 * tanh(((((w0 * w0_) + (w0 * w0_)_) + (w1 * w1_)) + b)))) + b)))) + (w3 * tanh(((((((w0 * tanh(((((w0 * w0_) + (w0 * w0_)_) + (w1 * w1_)) + b))) + (w0 * tanh(((((w0 * w0_) + (w0 * w0_)_) + (w1 * w1_)) + b)))_) + (w1 * tanh(((((w0 * w0_) + (w0 * w0_)_) + (w1 * w1_)) + b)))) + (w2 * tanh(((((w0 * w0_) + (w0 * w0_)_) + (w1 * w1_)) + b)))) + (w3 * tanh(((((w0 * w0_) + (w0 * w0_)_) + (w1 * w1_)) + b)))) + b))))  | grad: 7.0914201532207155\n",
      "(w3 * tanh(((((((w0 * tanh(((((w0 * w0_) + (w0 * w0_)_) + (w1 * w1_)) + b))) + (w0 * tanh(((((w0 * w0_) + (w0 * w0_)_) + (w1 * w1_)) + b)))_) + (w1 * tanh(((((w0 * w0_) + (w0 * w0_)_) + (w1 * w1_)) + b)))) + (w2 * tanh(((((w0 * w0_) + (w0 * w0_)_) + (w1 * w1_)) + b)))) + (w3 * tanh(((((w0 * w0_) + (w0 * w0_)_) + (w1 * w1_)) + b)))) + b)))  | grad: 10.637130229831072\n",
      "tanh(((((((w0 * tanh(((((w0 * w0_) + (w0 * w0_)_) + (w1 * w1_)) + b))) + (w0 * tanh(((((w0 * w0_) + (w0 * w0_)_) + (w1 * w1_)) + b)))_) + (w1 * tanh(((((w0 * w0_) + (w0 * w0_)_) + (w1 * w1_)) + b)))) + (w2 * tanh(((((w0 * w0_) + (w0 * w0_)_) + (w1 * w1_)) + b)))) + (w3 * tanh(((((w0 * w0_) + (w0 * w0_)_) + (w1 * w1_)) + b)))) + b))  | grad: 3.757000033404724\n",
      "((((((w0 * tanh(((((w0 * w0_) + (w0 * w0_)_) + (w1 * w1_)) + b))) + (w0 * tanh(((((w0 * w0_) + (w0 * w0_)_) + (w1 * w1_)) + b)))_) + (w1 * tanh(((((w0 * w0_) + (w0 * w0_)_) + (w1 * w1_)) + b)))) + (w2 * tanh(((((w0 * w0_) + (w0 * w0_)_) + (w1 * w1_)) + b)))) + (w3 * tanh(((((w0 * w0_) + (w0 * w0_)_) + (w1 * w1_)) + b)))) + b)  | grad: 4.582702010916881\n",
      "b  | grad: 5.892045442607419\n",
      "(((((w0 * tanh(((((w0 * w0_) + (w0 * w0_)_) + (w1 * w1_)) + b))) + (w0 * tanh(((((w0 * w0_) + (w0 * w0_)_) + (w1 * w1_)) + b)))_) + (w1 * tanh(((((w0 * w0_) + (w0 * w0_)_) + (w1 * w1_)) + b)))) + (w2 * tanh(((((w0 * w0_) + (w0 * w0_)_) + (w1 * w1_)) + b)))) + (w3 * tanh(((((w0 * w0_) + (w0 * w0_)_) + (w1 * w1_)) + b))))  | grad: 5.892045442607419\n",
      "(w3 * tanh(((((w0 * w0_) + (w0 * w0_)_) + (w1 * w1_)) + b)))  | grad: 7.365056803259273\n",
      "w3  | grad: 9.001736092869876\n",
      "((((w0 * tanh(((((w0 * w0_) + (w0 * w0_)_) + (w1 * w1_)) + b))) + (w0 * tanh(((((w0 * w0_) + (w0 * w0_)_) + (w1 * w1_)) + b)))_) + (w1 * tanh(((((w0 * w0_) + (w0 * w0_)_) + (w1 * w1_)) + b)))) + (w2 * tanh(((((w0 * w0_) + (w0 * w0_)_) + (w1 * w1_)) + b))))  | grad: 7.365056803259273\n",
      "(w2 * tanh(((((w0 * w0_) + (w0 * w0_)_) + (w1 * w1_)) + b)))  | grad: 9.001736092872445\n",
      "w2  | grad: -10.80180230445148\n",
      "(((w0 * tanh(((((w0 * w0_) + (w0 * w0_)_) + (w1 * w1_)) + b))) + (w0 * tanh(((((w0 * w0_) + (w0 * w0_)_) + (w1 * w1_)) + b)))_) + (w1 * tanh(((((w0 * w0_) + (w0 * w0_)_) + (w1 * w1_)) + b))))  | grad: 9.001736092872445\n",
      "(w1 * tanh(((((w0 * w0_) + (w0 * w0_)_) + (w1 * w1_)) + b)))  | grad: 10.802083311446934\n",
      "w1  | grad: 12.766098458680348\n",
      "((w0 * tanh(((((w0 * w0_) + (w0 * w0_)_) + (w1 * w1_)) + b))) + (w0 * tanh(((((w0 * w0_) + (w0 * w0_)_) + (w1 * w1_)) + b)))_)  | grad: 10.802083311446934\n",
      "(w0 * tanh(((((w0 * w0_) + (w0 * w0_)_) + (w1 * w1_)) + b)))_  | grad: 12.76609845898274\n",
      "(w0 * tanh(((((w0 * w0_) + (w0 * w0_)_) + (w1 * w1_)) + b)))  | grad: 12.76609845898274\n",
      "w0  | grad: 14.893781535379455\n",
      "w3  | grad: 4.345992130200455\n",
      "((((w0 * tanh(((((((w0 * tanh(((((w0 * w0_) + (w0 * w0_)_) + (w1 * w1_)) + b))) + (w0 * tanh(((((w0 * w0_) + (w0 * w0_)_) + (w1 * w1_)) + b)))_) + (w1 * tanh(((((w0 * w0_) + (w0 * w0_)_) + (w1 * w1_)) + b)))) + (w2 * tanh(((((w0 * w0_) + (w0 * w0_)_) + (w1 * w1_)) + b)))) + (w3 * tanh(((((w0 * w0_) + (w0 * w0_)_) + (w1 * w1_)) + b)))) + b))) + (w0 * tanh(((((((w0 * tanh(((((w0 * w0_) + (w0 * w0_)_) + (w1 * w1_)) + b))) + (w0 * tanh(((((w0 * w0_) + (w0 * w0_)_) + (w1 * w1_)) + b)))_) + (w1 * tanh(((((w0 * w0_) + (w0 * w0_)_) + (w1 * w1_)) + b)))) + (w2 * tanh(((((w0 * w0_) + (w0 * w0_)_) + (w1 * w1_)) + b)))) + (w3 * tanh(((((w0 * w0_) + (w0 * w0_)_) + (w1 * w1_)) + b)))) + b)))_) + (w1 * tanh(((((((w0 * tanh(((((w0 * w0_) + (w0 * w0_)_) + (w1 * w1_)) + b))) + (w0 * tanh(((((w0 * w0_) + (w0 * w0_)_) + (w1 * w1_)) + b)))_) + (w1 * tanh(((((w0 * w0_) + (w0 * w0_)_) + (w1 * w1_)) + b)))) + (w2 * tanh(((((w0 * w0_) + (w0 * w0_)_) + (w1 * w1_)) + b)))) + (w3 * tanh(((((w0 * w0_) + (w0 * w0_)_) + (w1 * w1_)) + b)))) + b)))) + (w2 * tanh(((((((w0 * tanh(((((w0 * w0_) + (w0 * w0_)_) + (w1 * w1_)) + b))) + (w0 * tanh(((((w0 * w0_) + (w0 * w0_)_) + (w1 * w1_)) + b)))_) + (w1 * tanh(((((w0 * w0_) + (w0 * w0_)_) + (w1 * w1_)) + b)))) + (w2 * tanh(((((w0 * w0_) + (w0 * w0_)_) + (w1 * w1_)) + b)))) + (w3 * tanh(((((w0 * w0_) + (w0 * w0_)_) + (w1 * w1_)) + b)))) + b))))  | grad: 10.637130229831072\n",
      "(w2 * tanh(((((((w0 * tanh(((((w0 * w0_) + (w0 * w0_)_) + (w1 * w1_)) + b))) + (w0 * tanh(((((w0 * w0_) + (w0 * w0_)_) + (w1 * w1_)) + b)))_) + (w1 * tanh(((((w0 * w0_) + (w0 * w0_)_) + (w1 * w1_)) + b)))) + (w2 * tanh(((((w0 * w0_) + (w0 * w0_)_) + (w1 * w1_)) + b)))) + (w3 * tanh(((((w0 * w0_) + (w0 * w0_)_) + (w1 * w1_)) + b)))) + b)))  | grad: 14.891982321763502\n",
      "tanh(((((((w0 * tanh(((((w0 * w0_) + (w0 * w0_)_) + (w1 * w1_)) + b))) + (w0 * tanh(((((w0 * w0_) + (w0 * w0_)_) + (w1 * w1_)) + b)))_) + (w1 * tanh(((((w0 * w0_) + (w0 * w0_)_) + (w1 * w1_)) + b)))) + (w2 * tanh(((((w0 * w0_) + (w0 * w0_)_) + (w1 * w1_)) + b)))) + (w3 * tanh(((((w0 * w0_) + (w0 * w0_)_) + (w1 * w1_)) + b)))) + b))  | grad: 0.5944530720615044\n",
      "((((((w0 * tanh(((((w0 * w0_) + (w0 * w0_)_) + (w1 * w1_)) + b))) + (w0 * tanh(((((w0 * w0_) + (w0 * w0_)_) + (w1 * w1_)) + b)))_) + (w1 * tanh(((((w0 * w0_) + (w0 * w0_)_) + (w1 * w1_)) + b)))) + (w2 * tanh(((((w0 * w0_) + (w0 * w0_)_) + (w1 * w1_)) + b)))) + (w3 * tanh(((((w0 * w0_) + (w0 * w0_)_) + (w1 * w1_)) + b)))) + b)  | grad: 0.43882852756360463\n",
      "b  | grad: 0.5485356594545058\n",
      "(((((w0 * tanh(((((w0 * w0_) + (w0 * w0_)_) + (w1 * w1_)) + b))) + (w0 * tanh(((((w0 * w0_) + (w0 * w0_)_) + (w1 * w1_)) + b)))_) + (w1 * tanh(((((w0 * w0_) + (w0 * w0_)_) + (w1 * w1_)) + b)))) + (w2 * tanh(((((w0 * w0_) + (w0 * w0_)_) + (w1 * w1_)) + b)))) + (w3 * tanh(((((w0 * w0_) + (w0 * w0_)_) + (w1 * w1_)) + b))))  | grad: 0.5485356594545058\n",
      "(w3 * tanh(((((w0 * w0_) + (w0 * w0_)_) + (w1 * w1_)) + b)))  | grad: 0.6704324726666182\n",
      "w3  | grad: 0.8045189671997122\n",
      "((((w0 * tanh(((((w0 * w0_) + (w0 * w0_)_) + (w1 * w1_)) + b))) + (w0 * tanh(((((w0 * w0_) + (w0 * w0_)_) + (w1 * w1_)) + b)))_) + (w1 * tanh(((((w0 * w0_) + (w0 * w0_)_) + (w1 * w1_)) + b)))) + (w2 * tanh(((((w0 * w0_) + (w0 * w0_)_) + (w1 * w1_)) + b))))  | grad: 0.6704324726666182\n",
      "(w2 * tanh(((((w0 * w0_) + (w0 * w0_)_) + (w1 * w1_)) + b)))  | grad: 0.8045189671999419\n",
      "w2  | grad: -0.9507704089287772\n",
      "(((w0 * tanh(((((w0 * w0_) + (w0 * w0_)_) + (w1 * w1_)) + b))) + (w0 * tanh(((((w0 * w0_) + (w0 * w0_)_) + (w1 * w1_)) + b)))_) + (w1 * tanh(((((w0 * w0_) + (w0 * w0_)_) + (w1 * w1_)) + b))))  | grad: 0.8045189671999419\n",
      "(w1 * tanh(((((w0 * w0_) + (w0 * w0_)_) + (w1 * w1_)) + b)))  | grad: 0.9507951430544768\n",
      "w1  | grad: 1.1092610002039478\n",
      "((w0 * tanh(((((w0 * w0_) + (w0 * w0_)_) + (w1 * w1_)) + b))) + (w0 * tanh(((((w0 * w0_) + (w0 * w0_)_) + (w1 * w1_)) + b)))_)  | grad: 0.9507951430544768\n",
      "(w0 * tanh(((((w0 * w0_) + (w0 * w0_)_) + (w1 * w1_)) + b)))_  | grad: 1.109261000230223\n",
      "(w0 * tanh(((((w0 * w0_) + (w0 * w0_)_) + (w1 * w1_)) + b)))  | grad: 1.109261000230223\n",
      "w0  | grad: 1.2799165387185516\n",
      "w2  | grad: -12.957301369429894\n",
      "(((w0 * tanh(((((((w0 * tanh(((((w0 * w0_) + (w0 * w0_)_) + (w1 * w1_)) + b))) + (w0 * tanh(((((w0 * w0_) + (w0 * w0_)_) + (w1 * w1_)) + b)))_) + (w1 * tanh(((((w0 * w0_) + (w0 * w0_)_) + (w1 * w1_)) + b)))) + (w2 * tanh(((((w0 * w0_) + (w0 * w0_)_) + (w1 * w1_)) + b)))) + (w3 * tanh(((((w0 * w0_) + (w0 * w0_)_) + (w1 * w1_)) + b)))) + b))) + (w0 * tanh(((((((w0 * tanh(((((w0 * w0_) + (w0 * w0_)_) + (w1 * w1_)) + b))) + (w0 * tanh(((((w0 * w0_) + (w0 * w0_)_) + (w1 * w1_)) + b)))_) + (w1 * tanh(((((w0 * w0_) + (w0 * w0_)_) + (w1 * w1_)) + b)))) + (w2 * tanh(((((w0 * w0_) + (w0 * w0_)_) + (w1 * w1_)) + b)))) + (w3 * tanh(((((w0 * w0_) + (w0 * w0_)_) + (w1 * w1_)) + b)))) + b)))_) + (w1 * tanh(((((((w0 * tanh(((((w0 * w0_) + (w0 * w0_)_) + (w1 * w1_)) + b))) + (w0 * tanh(((((w0 * w0_) + (w0 * w0_)_) + (w1 * w1_)) + b)))_) + (w1 * tanh(((((w0 * w0_) + (w0 * w0_)_) + (w1 * w1_)) + b)))) + (w2 * tanh(((((w0 * w0_) + (w0 * w0_)_) + (w1 * w1_)) + b)))) + (w3 * tanh(((((w0 * w0_) + (w0 * w0_)_) + (w1 * w1_)) + b)))) + b))))  | grad: 14.891982321763502\n",
      "(w1 * tanh(((((((w0 * tanh(((((w0 * w0_) + (w0 * w0_)_) + (w1 * w1_)) + b))) + (w0 * tanh(((((w0 * w0_) + (w0 * w0_)_) + (w1 * w1_)) + b)))_) + (w1 * tanh(((((w0 * w0_) + (w0 * w0_)_) + (w1 * w1_)) + b)))) + (w2 * tanh(((((w0 * w0_) + (w0 * w0_)_) + (w1 * w1_)) + b)))) + (w3 * tanh(((((w0 * w0_) + (w0 * w0_)_) + (w1 * w1_)) + b)))) + b)))  | grad: 19.855976429018003\n",
      "tanh(((((((w0 * tanh(((((w0 * w0_) + (w0 * w0_)_) + (w1 * w1_)) + b))) + (w0 * tanh(((((w0 * w0_) + (w0 * w0_)_) + (w1 * w1_)) + b)))_) + (w1 * tanh(((((w0 * w0_) + (w0 * w0_)_) + (w1 * w1_)) + b)))) + (w2 * tanh(((((w0 * w0_) + (w0 * w0_)_) + (w1 * w1_)) + b)))) + (w3 * tanh(((((w0 * w0_) + (w0 * w0_)_) + (w1 * w1_)) + b)))) + b))  | grad: -22.438724654284062\n",
      "((((((w0 * tanh(((((w0 * w0_) + (w0 * w0_)_) + (w1 * w1_)) + b))) + (w0 * tanh(((((w0 * w0_) + (w0 * w0_)_) + (w1 * w1_)) + b)))_) + (w1 * tanh(((((w0 * w0_) + (w0 * w0_)_) + (w1 * w1_)) + b)))) + (w2 * tanh(((((w0 * w0_) + (w0 * w0_)_) + (w1 * w1_)) + b)))) + (w3 * tanh(((((w0 * w0_) + (w0 * w0_)_) + (w1 * w1_)) + b)))) + b)  | grad: -20.42497541495862\n",
      "b  | grad: -24.96385884050498\n",
      "(((((w0 * tanh(((((w0 * w0_) + (w0 * w0_)_) + (w1 * w1_)) + b))) + (w0 * tanh(((((w0 * w0_) + (w0 * w0_)_) + (w1 * w1_)) + b)))_) + (w1 * tanh(((((w0 * w0_) + (w0 * w0_)_) + (w1 * w1_)) + b)))) + (w2 * tanh(((((w0 * w0_) + (w0 * w0_)_) + (w1 * w1_)) + b)))) + (w3 * tanh(((((w0 * w0_) + (w0 * w0_)_) + (w1 * w1_)) + b))))  | grad: -24.96385884050498\n",
      "(w3 * tanh(((((w0 * w0_) + (w0 * w0_)_) + (w1 * w1_)) + b)))  | grad: -29.956630608605977\n",
      "w3  | grad: -35.4032907192515\n",
      "((((w0 * tanh(((((w0 * w0_) + (w0 * w0_)_) + (w1 * w1_)) + b))) + (w0 * tanh(((((w0 * w0_) + (w0 * w0_)_) + (w1 * w1_)) + b)))_) + (w1 * tanh(((((w0 * w0_) + (w0 * w0_)_) + (w1 * w1_)) + b)))) + (w2 * tanh(((((w0 * w0_) + (w0 * w0_)_) + (w1 * w1_)) + b))))  | grad: -29.956630608605977\n",
      "(w2 * tanh(((((w0 * w0_) + (w0 * w0_)_) + (w1 * w1_)) + b)))  | grad: -35.40329071926161\n",
      "w2  | grad: 41.302764688281016\n",
      "(((w0 * tanh(((((w0 * w0_) + (w0 * w0_)_) + (w1 * w1_)) + b))) + (w0 * tanh(((((w0 * w0_) + (w0 * w0_)_) + (w1 * w1_)) + b)))_) + (w1 * tanh(((((w0 * w0_) + (w0 * w0_)_) + (w1 * w1_)) + b))))  | grad: -35.40329071926161\n",
      "(w1 * tanh(((((w0 * w0_) + (w0 * w0_)_) + (w1 * w1_)) + b)))  | grad: -41.30383917247188\n",
      "w1  | grad: -47.658275967107905\n",
      "((w0 * tanh(((((w0 * w0_) + (w0 * w0_)_) + (w1 * w1_)) + b))) + (w0 * tanh(((((w0 * w0_) + (w0 * w0_)_) + (w1 * w1_)) + b)))_)  | grad: -41.30383917247188\n",
      "(w0 * tanh(((((w0 * w0_) + (w0 * w0_)_) + (w1 * w1_)) + b)))_  | grad: -47.65827596823679\n",
      "(w0 * tanh(((((w0 * w0_) + (w0 * w0_)_) + (w1 * w1_)) + b)))  | grad: -47.65827596823679\n",
      "w0  | grad: -54.46660110618913\n",
      "w1  | grad: -13.309350023459427\n",
      "((w0 * tanh(((((((w0 * tanh(((((w0 * w0_) + (w0 * w0_)_) + (w1 * w1_)) + b))) + (w0 * tanh(((((w0 * w0_) + (w0 * w0_)_) + (w1 * w1_)) + b)))_) + (w1 * tanh(((((w0 * w0_) + (w0 * w0_)_) + (w1 * w1_)) + b)))) + (w2 * tanh(((((w0 * w0_) + (w0 * w0_)_) + (w1 * w1_)) + b)))) + (w3 * tanh(((((w0 * w0_) + (w0 * w0_)_) + (w1 * w1_)) + b)))) + b))) + (w0 * tanh(((((((w0 * tanh(((((w0 * w0_) + (w0 * w0_)_) + (w1 * w1_)) + b))) + (w0 * tanh(((((w0 * w0_) + (w0 * w0_)_) + (w1 * w1_)) + b)))_) + (w1 * tanh(((((w0 * w0_) + (w0 * w0_)_) + (w1 * w1_)) + b)))) + (w2 * tanh(((((w0 * w0_) + (w0 * w0_)_) + (w1 * w1_)) + b)))) + (w3 * tanh(((((w0 * w0_) + (w0 * w0_)_) + (w1 * w1_)) + b)))) + b)))_)  | grad: 19.855976429018003\n",
      "(w0 * tanh(((((((w0 * tanh(((((w0 * w0_) + (w0 * w0_)_) + (w1 * w1_)) + b))) + (w0 * tanh(((((w0 * w0_) + (w0 * w0_)_) + (w1 * w1_)) + b)))_) + (w1 * tanh(((((w0 * w0_) + (w0 * w0_)_) + (w1 * w1_)) + b)))) + (w2 * tanh(((((w0 * w0_) + (w0 * w0_)_) + (w1 * w1_)) + b)))) + (w3 * tanh(((((w0 * w0_) + (w0 * w0_)_) + (w1 * w1_)) + b)))) + b)))_  | grad: 25.529112551594576\n",
      "(w0 * tanh(((((((w0 * tanh(((((w0 * w0_) + (w0 * w0_)_) + (w1 * w1_)) + b))) + (w0 * tanh(((((w0 * w0_) + (w0 * w0_)_) + (w1 * w1_)) + b)))_) + (w1 * tanh(((((w0 * w0_) + (w0 * w0_)_) + (w1 * w1_)) + b)))) + (w2 * tanh(((((w0 * w0_) + (w0 * w0_)_) + (w1 * w1_)) + b)))) + (w3 * tanh(((((w0 * w0_) + (w0 * w0_)_) + (w1 * w1_)) + b)))) + b)))  | grad: 25.529112551594576\n",
      "tanh(((((((w0 * tanh(((((w0 * w0_) + (w0 * w0_)_) + (w1 * w1_)) + b))) + (w0 * tanh(((((w0 * w0_) + (w0 * w0_)_) + (w1 * w1_)) + b)))_) + (w1 * tanh(((((w0 * w0_) + (w0 * w0_)_) + (w1 * w1_)) + b)))) + (w2 * tanh(((((w0 * w0_) + (w0 * w0_)_) + (w1 * w1_)) + b)))) + (w3 * tanh(((((w0 * w0_) + (w0 * w0_)_) + (w1 * w1_)) + b)))) + b))  | grad: -3.8574861795150746\n",
      "((((((w0 * tanh(((((w0 * w0_) + (w0 * w0_)_) + (w1 * w1_)) + b))) + (w0 * tanh(((((w0 * w0_) + (w0 * w0_)_) + (w1 * w1_)) + b)))_) + (w1 * tanh(((((w0 * w0_) + (w0 * w0_)_) + (w1 * w1_)) + b)))) + (w2 * tanh(((((w0 * w0_) + (w0 * w0_)_) + (w1 * w1_)) + b)))) + (w3 * tanh(((((w0 * w0_) + (w0 * w0_)_) + (w1 * w1_)) + b)))) + b)  | grad: -0.22923407021619793\n",
      "b  | grad: -0.27508088425943755\n",
      "(((((w0 * tanh(((((w0 * w0_) + (w0 * w0_)_) + (w1 * w1_)) + b))) + (w0 * tanh(((((w0 * w0_) + (w0 * w0_)_) + (w1 * w1_)) + b)))_) + (w1 * tanh(((((w0 * w0_) + (w0 * w0_)_) + (w1 * w1_)) + b)))) + (w2 * tanh(((((w0 * w0_) + (w0 * w0_)_) + (w1 * w1_)) + b)))) + (w3 * tanh(((((w0 * w0_) + (w0 * w0_)_) + (w1 * w1_)) + b))))  | grad: -0.27508088425943755\n",
      "(w3 * tanh(((((w0 * w0_) + (w0 * w0_)_) + (w1 * w1_)) + b)))  | grad: -0.3250955904884262\n",
      "tanh(((((w0 * w0_) + (w0 * w0_)_) + (w1 * w1_)) + b))  | grad: 39.00233576810802\n",
      "((((w0 * w0_) + (w0 * w0_)_) + (w1 * w1_)) + b)  | grad: 2.6360764074753053e-11\n",
      "b  | grad: 3.0807061954365995e-11\n",
      "(((w0 * w0_) + (w0 * w0_)_) + (w1 * w1_))  | grad: 3.0807061954365995e-11\n",
      "(w1 * w1_)  | grad: 3.560441756560783e-11\n",
      "w1_  | grad: -1.4635924534552637e-11\n",
      "w1  | grad: 4.0752830908478553e-11\n",
      "((w0 * w0_) + (w0 * w0_)_)  | grad: 3.560441756560783e-11\n",
      "(w0 * w0_)_  | grad: 4.0752830908478553e-11\n",
      "(w0 * w0_)  | grad: 4.0752830908478553e-11\n",
      "w0_  | grad: 3.5288616377160824e-11\n",
      "w0  | grad: 9.250460396595632e-10\n",
      "w3  | grad: -0.3792781889030556\n",
      "((((w0 * tanh(((((w0 * w0_) + (w0 * w0_)_) + (w1 * w1_)) + b))) + (w0 * tanh(((((w0 * w0_) + (w0 * w0_)_) + (w1 * w1_)) + b)))_) + (w1 * tanh(((((w0 * w0_) + (w0 * w0_)_) + (w1 * w1_)) + b)))) + (w2 * tanh(((((w0 * w0_) + (w0 * w0_)_) + (w1 * w1_)) + b))))  | grad: -0.3250955904884262\n",
      "(w2 * tanh(((((w0 * w0_) + (w0 * w0_)_) + (w1 * w1_)) + b)))  | grad: -0.3792781889031639\n",
      "tanh(((((w0 * w0_) + (w0 * w0_)_) + (w1 * w1_)) + b))  | grad: 36.57036493788927\n",
      "((((w0 * w0_) + (w0 * w0_)_) + (w1 * w1_)) + b)  | grad: 0.0022312713293508963\n",
      "b  | grad: 0.0025863246366631654\n",
      "(((w0 * w0_) + (w0 * w0_)_) + (w1 * w1_))  | grad: 0.0025863246366631654\n",
      "(w1 * w1_)  | grad: 0.0029678289553089028\n",
      "w1_  | grad: 0.0004248560848836018\n",
      "w1  | grad: 0.003375784285288109\n",
      "((w0 * w0_) + (w0 * w0_)_)  | grad: 0.0029678289553089028\n",
      "(w0 * w0_)_  | grad: 0.003375784285288109\n",
      "(w0 * w0_)  | grad: 0.003375784285288109\n",
      "w0_  | grad: -0.0011242005903655042\n",
      "w0  | grad: 0.07620381253201566\n",
      "w2  | grad: 0.43761729496635293\n",
      "(((w0 * tanh(((((w0 * w0_) + (w0 * w0_)_) + (w1 * w1_)) + b))) + (w0 * tanh(((((w0 * w0_) + (w0 * w0_)_) + (w1 * w1_)) + b)))_) + (w1 * tanh(((((w0 * w0_) + (w0 * w0_)_) + (w1 * w1_)) + b))))  | grad: -0.3792781889031639\n",
      "(w1 * tanh(((((w0 * w0_) + (w0 * w0_)_) + (w1 * w1_)) + b)))  | grad: -0.43762867950365064\n",
      "tanh(((((w0 * w0_) + (w0 * w0_)_) + (w1 * w1_)) + b))  | grad: 10.342118031254238\n",
      "((((w0 * w0_) + (w0 * w0_)_) + (w1 * w1_)) + b)  | grad: 5.016092162583121e-10\n",
      "b  | grad: 5.094666889832442e-10\n",
      "(((w0 * w0_) + (w0 * w0_)_) + (w1 * w1_))  | grad: 5.094666889832442e-10\n",
      "(w1 * w1_)  | grad: 5.135209999781344e-10\n",
      "w1_  | grad: -1.1683476934298253e-11\n",
      "w1  | grad: 5.137721492429829e-10\n",
      "((w0 * w0_) + (w0 * w0_)_)  | grad: 5.135209999781344e-10\n",
      "(w0 * w0_)_  | grad: 5.137721492429829e-10\n",
      "(w0 * w0_)  | grad: 5.137721492429829e-10\n",
      "w0_  | grad: 3.1973898944127897e-10\n",
      "w0  | grad: 1.0204402735555787e-08\n",
      "w1  | grad: -0.5001470622780394\n",
      "((w0 * tanh(((((w0 * w0_) + (w0 * w0_)_) + (w1 * w1_)) + b))) + (w0 * tanh(((((w0 * w0_) + (w0 * w0_)_) + (w1 * w1_)) + b)))_)  | grad: -0.43762867950365064\n",
      "(w0 * tanh(((((w0 * w0_) + (w0 * w0_)_) + (w1 * w1_)) + b)))_  | grad: -0.5001470622898865\n",
      "(w0 * tanh(((((w0 * w0_) + (w0 * w0_)_) + (w1 * w1_)) + b)))  | grad: -0.5001470622898865\n",
      "tanh(((((w0 * w0_) + (w0 * w0_)_) + (w1 * w1_)) + b))  | grad: -16.340327898382867\n",
      "((((w0 * w0_) + (w0 * w0_)_) + (w1 * w1_)) + b)  | grad: -2.475884908398313e-10\n",
      "b  | grad: -2.764084977599125e-10\n",
      "(((w0 * w0_) + (w0 * w0_)_) + (w1 * w1_))  | grad: -2.764084977599125e-10\n",
      "(w1 * w1_)  | grad: -3.0678016754754486e-10\n",
      "w1_  | grad: -1.6238634375353415e-10\n",
      "w1  | grad: -3.387035002027284e-10\n",
      "((w0 * w0_) + (w0 * w0_)_)  | grad: -3.0678016754754486e-10\n",
      "(w0 * w0_)_  | grad: -3.387035002027284e-10\n",
      "(w0 * w0_)  | grad: -3.387035002027284e-10\n",
      "w0_  | grad: -2.448023923321113e-10\n",
      "w0  | grad: -7.44356991450926e-09\n",
      "w0  | grad: -0.5668333372580501\n",
      "w0  | grad: 31.125941220984732\n"
     ]
    }
   ],
   "source": [
    "res.backward()\n",
    "\n",
    "res.print_grads()"
   ]
  },
  {
   "cell_type": "code",
   "execution_count": 70,
   "metadata": {},
   "outputs": [],
   "source": [
    "a = Node(5, label='a')\n",
    "b = Node(10, label='b')\n",
    "c  = a * b"
   ]
  },
  {
   "cell_type": "code",
   "execution_count": 75,
   "metadata": {},
   "outputs": [
    {
     "data": {
      "text/plain": [
       "['a' | Value: 5,\n",
       " 'b' | Value: 10,\n",
       " '(a * b)' | Value: 50,\n",
       " '((a * b) + a)' | Value: 55]"
      ]
     },
     "execution_count": 75,
     "metadata": {},
     "output_type": "execute_result"
    }
   ],
   "source": [
    "\n",
    "c = a * b + a\n",
    "c._topological_ordering()"
   ]
  },
  {
   "cell_type": "code",
   "execution_count": 94,
   "metadata": {},
   "outputs": [
    {
     "data": {
      "text/plain": [
       "(Oбгортка(число=20), Oбгортка(число=13), Oбгортка(число=7))"
      ]
     },
     "execution_count": 94,
     "metadata": {},
     "output_type": "execute_result"
    }
   ],
   "source": [
    "class Node:\n",
    "    def __init__(self, val):\n",
    "        self.val = val\n",
    "        \n",
    "    def __repr__(self):\n",
    "        return f'Oбгортка(число={self.val})'\n",
    "    \n",
    "    def __add__(self, other):\n",
    "        out = Node(self.val + other.val)\n",
    "        out.left = self\n",
    "        out.right = other\n",
    "        return out\n",
    "    \n",
    "a = Node(7)\n",
    "b = Node(6)\n",
    "c = a + b\n",
    "m = c + a\n",
    "m, m.left, m.right"
   ]
  },
  {
   "cell_type": "code",
   "execution_count": null,
   "metadata": {},
   "outputs": [],
   "source": []
  }
 ],
 "metadata": {
  "kernelspec": {
   "display_name": "base",
   "language": "python",
   "name": "python3"
  },
  "language_info": {
   "codemirror_mode": {
    "name": "ipython",
    "version": 3
   },
   "file_extension": ".py",
   "mimetype": "text/x-python",
   "name": "python",
   "nbconvert_exporter": "python",
   "pygments_lexer": "ipython3",
   "version": "3.10.9"
  }
 },
 "nbformat": 4,
 "nbformat_minor": 2
}
