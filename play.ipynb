{
 "cells": [
  {
   "cell_type": "code",
   "execution_count": 1,
   "id": "52d9fb6c",
   "metadata": {},
   "outputs": [],
   "source": [
    "import numpy as np"
   ]
  },
  {
   "cell_type": "code",
   "execution_count": 34,
   "id": "7673cd90",
   "metadata": {},
   "outputs": [],
   "source": [
    "X = np.random.randn(100, 10)\n",
    "Y = np.random.randn(100, 1)"
   ]
  },
  {
   "cell_type": "code",
   "execution_count": null,
   "id": "97223abc",
   "metadata": {},
   "outputs": [],
   "source": [
    "def train_test_split(X, Y, train_size = 0.8):\n",
    "    train_treshold = int(train_size * X.shape[0])\n",
    "    X_train, Y_train = X[:train_treshold, :], Y[:train_treshold, :]\n",
    "    X_test, Y_test = X[train_treshold:, :], Y[train_treshold:, :]\n",
    "    return X_train, X_test, Y_train, Y_test\n",
    "\n",
    "X_train, X_test, Y_train, Y_test = train_test_split(X, Y)\n",
    "\n",
    "X_train.shape, X_t"
   ]
  },
  {
   "cell_type": "code",
   "execution_count": null,
   "id": "73451d29",
   "metadata": {},
   "outputs": [],
   "source": []
  },
  {
   "cell_type": "code",
   "execution_count": null,
   "id": "88fea28f",
   "metadata": {},
   "outputs": [],
   "source": []
  }
 ],
 "metadata": {
  "kernelspec": {
   "display_name": "Python 3",
   "language": "python",
   "name": "python3"
  },
  "language_info": {
   "codemirror_mode": {
    "name": "ipython",
    "version": 3
   },
   "file_extension": ".py",
   "mimetype": "text/x-python",
   "name": "python",
   "nbconvert_exporter": "python",
   "pygments_lexer": "ipython3",
   "version": "3.13.3"
  }
 },
 "nbformat": 4,
 "nbformat_minor": 5
}
