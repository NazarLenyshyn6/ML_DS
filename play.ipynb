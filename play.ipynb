{
 "cells": [
  {
   "cell_type": "code",
   "execution_count": 3,
   "id": "d7dddba0",
   "metadata": {},
   "outputs": [],
   "source": [
    "import numpy as np"
   ]
  },
  {
   "cell_type": "code",
   "execution_count": 4,
   "id": "38558dcd",
   "metadata": {},
   "outputs": [],
   "source": [
    "from sklearn.datasets import make_regression\n",
    "import matplotlib.pyplot as plt\n",
    "\n",
    "# Generate dataset\n",
    "X, y = make_regression(n_samples=10000, n_features=10, noise=10, random_state=42)\n",
    "y = y.reshape(-1, 1)"
   ]
  },
  {
   "cell_type": "code",
   "execution_count": 5,
   "id": "12b1f6aa",
   "metadata": {},
   "outputs": [
    {
     "data": {
      "text/plain": [
       "array([[  74, 1622],\n",
       "       [  80, 1447],\n",
       "       [  57, 1428],\n",
       "       [   5, 1829],\n",
       "       [  49, 1253],\n",
       "       [  36, 1233],\n",
       "       [  61, 1765],\n",
       "       [  99, 1758],\n",
       "       [  75, 1122],\n",
       "       [  73, 1304]], dtype=int32)"
      ]
     },
     "execution_count": 5,
     "metadata": {},
     "output_type": "execute_result"
    }
   ],
   "source": [
    "np.random.seed(21)\n",
    "x1 = np.random.randint(1, 100, (10,1))\n",
    "x2 = np.random.randint(1000, 2000, (10, 1))\n",
    "x = np.hstack([x1, x2])\n",
    "x"
   ]
  },
  {
   "cell_type": "code",
   "execution_count": 9,
   "id": "8cfe320d",
   "metadata": {},
   "outputs": [
    {
     "data": {
      "text/plain": [
       "array([[ 0.52463414,  0.60802598],\n",
       "       [ 0.76492459, -0.1212718 ],\n",
       "       [-0.15618879, -0.20045271],\n",
       "       [-2.23870599,  1.47068108],\n",
       "       [-0.47657605, -0.92975049],\n",
       "       [-0.99720535, -1.01309881],\n",
       "       [ 0.00400484,  1.20396646],\n",
       "       [ 1.52584433,  1.17479455],\n",
       "       [ 0.56468255, -1.47568198],\n",
       "       [ 0.48458573, -0.71721228]])"
      ]
     },
     "execution_count": 9,
     "metadata": {},
     "output_type": "execute_result"
    }
   ],
   "source": [
    "from ML.src.features_scaling import StandardScaler\n",
    "\n",
    "scaler = StandardScaler()\n",
    "scaler.fit_transform(x)"
   ]
  },
  {
   "cell_type": "code",
   "execution_count": null,
   "id": "636ba5b6",
   "metadata": {},
   "outputs": [],
   "source": []
  }
 ],
 "metadata": {
  "kernelspec": {
   "display_name": "Python 3",
   "language": "python",
   "name": "python3"
  },
  "language_info": {
   "codemirror_mode": {
    "name": "ipython",
    "version": 3
   },
   "file_extension": ".py",
   "mimetype": "text/x-python",
   "name": "python",
   "nbconvert_exporter": "python",
   "pygments_lexer": "ipython3",
   "version": "3.13.3"
  }
 },
 "nbformat": 4,
 "nbformat_minor": 5
}
