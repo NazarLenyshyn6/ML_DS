{
 "cells": [
  {
   "cell_type": "code",
   "execution_count": 143,
   "id": "d7dddba0",
   "metadata": {},
   "outputs": [],
   "source": [
    "import numpy as np"
   ]
  },
  {
   "cell_type": "code",
   "execution_count": 144,
   "id": "ac850ce0",
   "metadata": {},
   "outputs": [],
   "source": [
    "from sklearn.datasets import make_regression\n",
    "import numpy as np\n",
    "\n",
    "# Generate dataset\n",
    "X, y = make_regression(\n",
    "    n_samples=10000,      # number of samples\n",
    "    n_features=3,       # number of features\n",
    "    noise=10.0,         # standard deviation of the gaussian noise\n",
    "    bias=5.0,           # bias term added to the output\n",
    "    random_state=42     # reproducibility\n",
    ")\n",
    "\n",
    "# Make y a column vector to match (n_samples, 1) shape\n",
    "y = y.reshape(-1, 1)\n",
    "\n",
    "# Now X is (100, 3) and y is (100, 1)\n",
    "\n",
    "\n",
    "from ML.src.model_validation import train_test_split, cross_validate\n",
    "from ML.src.linear_regression import MSE\n",
    "\n",
    "mse = MSE()\n",
    "\n",
    "X_train, X_test, y_train, y_test = train_test_split(X, y, test_size=0.2, random_state=42)"
   ]
  },
  {
   "cell_type": "code",
   "execution_count": null,
   "id": "63344f29",
   "metadata": {},
   "outputs": [],
   "source": [
    "class Ridge:\n",
    "    def __init__(self, lr=0.001, n_iters=10000, alpha=2):\n",
    "        self.lr = lr\n",
    "        self.n_iters = n_iters\n",
    "        self.alpha = alpha\n",
    "\n",
    "    def _loss(self, y_true, y_pred):\n",
    "        return np.mean((y_true - y_pred)**2) + self.alpha*np.sum(self.w**2)\n",
    "    \n",
    "    def _step(self, x, y):\n",
    "        pred  = x @ self.w\n",
    "        dw = (-2 / y.shape[0]) * x.T @ (y - pred) +  2 * self.w * self.alpha \n",
    "        self.w -= self.lr * dw\n",
    "\n",
    "    def fit(self, X, y):\n",
    "        self.w = np.random.randn(X.shape[-1], 1)\n",
    "        for i in range(self.n_iters):\n",
    "            self._step(X, y)\n",
    "            if i % 300 == 0: \n",
    "                print(f'Loss {i}: {self._loss(y, self.predict(X))}')\n",
    "\n",
    "    def predict(self, X):\n",
    "        return X @ self.w\n",
    "    \n",
    "model = Ridge(alpha=10)"
   ]
  },
  {
   "cell_type": "code",
   "execution_count": 162,
   "id": "d1b47210",
   "metadata": {},
   "outputs": [
    {
     "name": "stdout",
     "output_type": "stream",
     "text": [
      "Loss 0: 16011.253252244362\n",
      "Loss 300: 14617.681286354451\n",
      "Loss 600: 14617.678953543975\n",
      "Loss 900: 14617.678953540071\n",
      "Loss 1200: 14617.678953540068\n",
      "Loss 1500: 14617.678953540068\n",
      "Loss 1800: 14617.678953540068\n",
      "Loss 2100: 14617.678953540068\n",
      "Loss 2400: 14617.678953540068\n",
      "Loss 2700: 14617.678953540068\n",
      "Loss 3000: 14617.678953540068\n",
      "Loss 3300: 14617.678953540068\n",
      "Loss 3600: 14617.678953540068\n",
      "Loss 3900: 14617.678953540068\n",
      "Loss 4200: 14617.678953540068\n",
      "Loss 4500: 14617.678953540068\n",
      "Loss 4800: 14617.678953540068\n",
      "Loss 5100: 14617.678953540068\n",
      "Loss 5400: 14617.678953540068\n",
      "Loss 5700: 14617.678953540068\n",
      "Loss 6000: 14617.678953540068\n",
      "Loss 6300: 14617.678953540068\n",
      "Loss 6600: 14617.678953540068\n",
      "Loss 6900: 14617.678953540068\n",
      "Loss 7200: 14617.678953540068\n",
      "Loss 7500: 14617.678953540068\n",
      "Loss 7800: 14617.678953540068\n",
      "Loss 8100: 14617.678953540068\n",
      "Loss 8400: 14617.678953540068\n",
      "Loss 8700: 14617.678953540068\n",
      "Loss 9000: 14617.678953540068\n",
      "Loss 9300: 14617.678953540068\n",
      "Loss 9600: 14617.678953540068\n",
      "Loss 9900: 14617.678953540068\n",
      "Loss 0: 16446.163517499404\n",
      "Loss 300: 15071.404230506236\n",
      "Loss 600: 15071.402020419784\n",
      "Loss 900: 15071.40202041623\n",
      "Loss 1200: 15071.40202041623\n",
      "Loss 1500: 15071.40202041623\n",
      "Loss 1800: 15071.402020416232\n",
      "Loss 2100: 15071.402020416232\n",
      "Loss 2400: 15071.402020416232\n",
      "Loss 2700: 15071.402020416232\n",
      "Loss 3000: 15071.402020416232\n",
      "Loss 3300: 15071.402020416232\n",
      "Loss 3600: 15071.402020416232\n",
      "Loss 3900: 15071.402020416232\n",
      "Loss 4200: 15071.402020416232\n",
      "Loss 4500: 15071.402020416232\n",
      "Loss 4800: 15071.402020416232\n",
      "Loss 5100: 15071.402020416232\n",
      "Loss 5400: 15071.402020416232\n",
      "Loss 5700: 15071.402020416232\n",
      "Loss 6000: 15071.402020416232\n",
      "Loss 6300: 15071.402020416232\n",
      "Loss 6600: 15071.402020416232\n",
      "Loss 6900: 15071.402020416232\n",
      "Loss 7200: 15071.402020416232\n",
      "Loss 7500: 15071.402020416232\n",
      "Loss 7800: 15071.402020416232\n",
      "Loss 8100: 15071.402020416232\n",
      "Loss 8400: 15071.402020416232\n",
      "Loss 8700: 15071.402020416232\n",
      "Loss 9000: 15071.402020416232\n",
      "Loss 9300: 15071.402020416232\n",
      "Loss 9600: 15071.402020416232\n",
      "Loss 9900: 15071.402020416232\n",
      "Loss 0: 16562.110516273628\n",
      "Loss 300: 15217.64585053221\n",
      "Loss 600: 15217.643698974178\n",
      "Loss 900: 15217.643698970734\n",
      "Loss 1200: 15217.643698970734\n",
      "Loss 1500: 15217.643698970733\n",
      "Loss 1800: 15217.643698970734\n",
      "Loss 2100: 15217.643698970734\n",
      "Loss 2400: 15217.643698970734\n",
      "Loss 2700: 15217.643698970734\n",
      "Loss 3000: 15217.643698970734\n",
      "Loss 3300: 15217.643698970734\n",
      "Loss 3600: 15217.643698970734\n",
      "Loss 3900: 15217.643698970734\n",
      "Loss 4200: 15217.643698970734\n",
      "Loss 4500: 15217.643698970734\n",
      "Loss 4800: 15217.643698970734\n",
      "Loss 5100: 15217.643698970734\n",
      "Loss 5400: 15217.643698970734\n",
      "Loss 5700: 15217.643698970734\n",
      "Loss 6000: 15217.643698970734\n",
      "Loss 6300: 15217.643698970734\n",
      "Loss 6600: 15217.643698970734\n",
      "Loss 6900: 15217.643698970734\n",
      "Loss 7200: 15217.643698970734\n",
      "Loss 7500: 15217.643698970734\n",
      "Loss 7800: 15217.643698970734\n",
      "Loss 8100: 15217.643698970734\n",
      "Loss 8400: 15217.643698970734\n",
      "Loss 8700: 15217.643698970734\n",
      "Loss 9000: 15217.643698970734\n",
      "Loss 9300: 15217.643698970734\n",
      "Loss 9600: 15217.643698970734\n",
      "Loss 9900: 15217.643698970734\n"
     ]
    },
    {
     "data": {
      "text/plain": [
       "array([14409.39199755, 13416.41927924, 13105.04924438])"
      ]
     },
     "execution_count": 162,
     "metadata": {},
     "output_type": "execute_result"
    }
   ],
   "source": [
    "cross_validate(X=X_train, Y=y_train, model=model, loss_fn=mse)"
   ]
  },
  {
   "cell_type": "code",
   "execution_count": null,
   "id": "8d9643b2",
   "metadata": {},
   "outputs": [
    {
     "data": {
      "text/plain": [
       "np.float64(6.506392316315466)"
      ]
     },
     "execution_count": 163,
     "metadata": {},
     "output_type": "execute_result"
    },
    {
     "ename": "",
     "evalue": "",
     "output_type": "error",
     "traceback": [
      "\u001b[1;31mThe Kernel crashed while executing code in the current cell or a previous cell. \n",
      "\u001b[1;31mPlease review the code in the cell(s) to identify a possible cause of the failure. \n",
      "\u001b[1;31mClick <a href='https://aka.ms/vscodeJupyterKernelCrash'>here</a> for more info. \n",
      "\u001b[1;31mView Jupyter <a href='command:jupyter.viewOutput'>log</a> for further details."
     ]
    }
   ],
   "source": [
    "model.w.mean()"
   ]
  },
  {
   "cell_type": "code",
   "execution_count": null,
   "id": "b117df47",
   "metadata": {},
   "outputs": [],
   "source": []
  }
 ],
 "metadata": {
  "kernelspec": {
   "display_name": "Python 3",
   "language": "python",
   "name": "python3"
  },
  "language_info": {
   "codemirror_mode": {
    "name": "ipython",
    "version": 3
   },
   "file_extension": ".py",
   "mimetype": "text/x-python",
   "name": "python",
   "nbconvert_exporter": "python",
   "pygments_lexer": "ipython3",
   "version": "3.13.3"
  }
 },
 "nbformat": 4,
 "nbformat_minor": 5
}
