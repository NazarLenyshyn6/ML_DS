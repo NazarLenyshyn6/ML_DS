{
 "cells": [
  {
   "cell_type": "code",
   "execution_count": 1,
   "id": "d7dddba0",
   "metadata": {},
   "outputs": [],
   "source": [
    "import numpy as np"
   ]
  },
  {
   "cell_type": "code",
   "execution_count": 2,
   "id": "ac850ce0",
   "metadata": {},
   "outputs": [],
   "source": [
    "from sklearn.datasets import make_regression\n",
    "import numpy as np\n",
    "\n",
    "# Generate dataset\n",
    "X, y = make_regression(\n",
    "    n_samples=10000,      # number of samples\n",
    "    n_features=3,       # number of features\n",
    "    noise=10.0,         # standard deviation of the gaussian noise\n",
    "    bias=5.0,           # bias term added to the output\n",
    "    random_state=42     # reproducibility\n",
    ")\n",
    "\n",
    "# Make y a column vector to match (n_samples, 1) shape\n",
    "y = y.reshape(-1, 1)\n",
    "\n",
    "# Now X is (100, 3) and y is (100, 1)\n",
    "\n",
    "\n",
    "from ML.src.model_validation import train_test_split, cross_validate\n",
    "from ML.src.linear_regression import MSE\n",
    "\n",
    "mse = MSE()\n",
    "\n",
    "X_train, X_test, y_train, y_test = train_test_split(X, y, test_size=0.2, random_state=42)"
   ]
  },
  {
   "cell_type": "code",
   "execution_count": 3,
   "id": "241e5d92",
   "metadata": {},
   "outputs": [],
   "source": [
    "from ML.src.linear_regression_with_regularization import  Ridge"
   ]
  },
  {
   "cell_type": "code",
   "execution_count": 7,
   "id": "f4ad5ccd",
   "metadata": {},
   "outputs": [
    {
     "data": {
      "text/plain": [
       "array([[-6.48278908],\n",
       "       [10.36944644],\n",
       "       [ 5.70317248],\n",
       "       ...,\n",
       "       [ 0.93249121],\n",
       "       [-6.23171625],\n",
       "       [17.39963992]], shape=(10000, 1))"
      ]
     },
     "execution_count": 7,
     "metadata": {},
     "output_type": "execute_result"
    }
   ],
   "source": [
    "model = Ridge(n_iters='1000', alpha=10)\n",
    "model.fit(X_train, y_train)\n",
    "model.predict(X)"
   ]
  },
  {
   "cell_type": "code",
   "execution_count": 8,
   "id": "d38a29d1",
   "metadata": {},
   "outputs": [
    {
     "data": {
      "text/plain": [
       "array([[3.43254156],\n",
       "       [7.08326055],\n",
       "       [6.40883677]])"
      ]
     },
     "execution_count": 8,
     "metadata": {},
     "output_type": "execute_result"
    }
   ],
   "source": [
    "model.w"
   ]
  },
  {
   "cell_type": "code",
   "execution_count": null,
   "id": "d5f1877c",
   "metadata": {},
   "outputs": [],
   "source": []
  }
 ],
 "metadata": {
  "kernelspec": {
   "display_name": "Python 3",
   "language": "python",
   "name": "python3"
  },
  "language_info": {
   "codemirror_mode": {
    "name": "ipython",
    "version": 3
   },
   "file_extension": ".py",
   "mimetype": "text/x-python",
   "name": "python",
   "nbconvert_exporter": "python",
   "pygments_lexer": "ipython3",
   "version": "3.13.3"
  }
 },
 "nbformat": 4,
 "nbformat_minor": 5
}
